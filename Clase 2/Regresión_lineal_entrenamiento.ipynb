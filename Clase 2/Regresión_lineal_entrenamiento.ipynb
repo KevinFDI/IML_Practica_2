{
  "nbformat": 4,
  "nbformat_minor": 0,
  "metadata": {
    "colab": {
      "name": "Regresión lineal entrenamiento",
      "provenance": [],
      "collapsed_sections": []
    },
    "kernelspec": {
      "name": "python3",
      "display_name": "Python 3"
    },
    "language_info": {
      "name": "python"
    }
  },
  "cells": [
    {
      "cell_type": "code",
      "execution_count": 24,
      "metadata": {
        "id": "SOTqoevRTnTN"
      },
      "outputs": [],
      "source": [
        "import matplotlib.pyplot as plt\n",
        "from mpl_toolkits.mplot3d import Axes3D\n",
        "import numpy as np\n",
        "import os\n",
        "import matplotlib.patches as patches\n",
        "from collections import namedtuple\n",
        "from matplotlib import cm\n",
        "import time\n",
        "\n",
        "from IPython.display import display, clear_output"
      ]
    },
    {
      "cell_type": "code",
      "source": [
        "OptimizationState = namedtuple('OptimizationState', ['error_history','max_iterations'])\n",
        "IterationState = namedtuple('IterationState', ['iteration','m','b','dEdm', 'dEdb','yhat','errors','mean_error'])\n",
        "OptimalModel = namedtuple('Model', ['m', 'b','error'])\n",
        "\n",
        "PlotState = namedtuple('PlotState', ['figure','axes','legends'])"
      ],
      "metadata": {
        "id": "gFlDMgkFUCEE"
      },
      "execution_count": 25,
      "outputs": []
    },
    {
      "cell_type": "markdown",
      "source": [
        "# FUNCIONES"
      ],
      "metadata": {
        "id": "YxjaU0tHbfBy"
      }
    },
    {
      "cell_type": "code",
      "source": [
        "def optimal_model(x,y):   \n",
        "    from sklearn import datasets, linear_model\n",
        "    regr = linear_model.LinearRegression()\n",
        "    regr.fit(x.reshape(-1, 1),y)\n",
        "    optimal_m=regr.coef_[0]\n",
        "    optimal_b=regr.intercept_\n",
        "    optimal_yhat=x*optimal_m+optimal_b\n",
        "    optimal_error=((optimal_yhat-y)**2).mean()\n",
        "    \n",
        "    return OptimalModel(optimal_m,optimal_b,optimal_error)"
      ],
      "metadata": {
        "id": "Xai7pWOtUEei"
      },
      "execution_count": 26,
      "outputs": []
    },
    {
      "cell_type": "code",
      "source": [
        "def init_data(ax_data,x,y,optimal,m,b):\n",
        "    ax_data.scatter(x,y,color=\"blue\")\n",
        "    \n",
        "    x_pad=10\n",
        "    min_x,max_x=x.min()-x_pad,x.max()+x_pad\n",
        "    ax_data.plot([min_x,max_x],[min_x*optimal.m+optimal.b,max_x*optimal.m+optimal.b],color=\"cyan\")\n",
        "    ax_data.plot([min_x,max_x],[min_x*m+b,max_x*m+b],color=\"red\")\n",
        "    \n",
        "    ax_data.set_xlabel(\"x\")\n",
        "    ax_data.set_ylabel(\"y\")"
      ],
      "metadata": {
        "id": "_sGBL5jxaVe7"
      },
      "execution_count": 27,
      "outputs": []
    },
    {
      "cell_type": "code",
      "source": [
        "def init_error_history(ax_error):\n",
        "    ax_error.set_xlabel(\"Iteración\")\n",
        "    ax_error.set_ylabel(\"Error\")\n",
        "    ax_error.set_title(\"Historial de Error\")"
      ],
      "metadata": {
        "id": "OpqOree1aVsj"
      },
      "execution_count": 28,
      "outputs": []
    },
    {
      "cell_type": "code",
      "source": [
        "def init_contour(ax_contour,x,y,optimal,m,b):    \n",
        "    ax_contour.set_xlabel(\"m\")\n",
        "    ax_contour.set_ylabel(\"b\")\n",
        "    \n",
        "    # ax3.set_zlabel(\"E\")\n",
        "    ax_contour.set_title(\"Contorno de E(m,b) \")\n",
        "    detail=0.05\n",
        "    param_range=4\n",
        "    M = np.arange(-4, 4, detail)\n",
        "    B = np.arange(-4, 4, detail)\n",
        "    Ms, Bs = np.meshgrid(M, B)\n",
        "    E=np.zeros_like(Ms)\n",
        "    n=len(x)\n",
        "    \n",
        "    for i in range(n):\n",
        "        Yi=Ms*x[i]+Bs\n",
        "        E+=(Yi-y[i])**2\n",
        "    \n",
        "    E/=n\n",
        "    \n",
        "    # ax_contour.contour(Ms,Bs,E, 14, linewidths=0.5, colors='k') # lineas del contorno\n",
        "    surf=ax_contour.contourf(Ms,Bs,E,25, cmap='hot')# 4to parámetro= aumentar detalle\n",
        "    \n",
        "    ax_contour.scatter([optimal.m], [optimal.b],c=\"green\", s=50)\n",
        "    plt.colorbar(surf, shrink=0.4, aspect=5)"
      ],
      "metadata": {
        "id": "lrdXTWmAaVvQ"
      },
      "execution_count": 29,
      "outputs": []
    },
    {
      "cell_type": "code",
      "source": [
        "def init_plot(x,y,optimal,m,b):\n",
        "    \n",
        "    figure=plt.figure(dpi=100)\n",
        "    plt.suptitle('Entrenamiento de modelo lineal')\n",
        "    ax_data=figure.add_subplot(1,3,1)\n",
        "    ax_error=figure.add_subplot(1,3,2)\n",
        "    ax_contour=figure.add_subplot(1,3,3)#,projection='3d')\n",
        "    axes=(ax_data,ax_error,ax_contour)\n",
        "    \n",
        "    init_data(ax_data,x,y,optimal,m,b)\n",
        "    init_error_history(ax_error)\n",
        "    init_contour(ax_contour,x,y,optimal,m,b)\n",
        "    \n",
        "    plt.show()\n",
        "     \n",
        "    return PlotState(figure,axes,None)"
      ],
      "metadata": {
        "id": "wyobvDiAaVxr"
      },
      "execution_count": 30,
      "outputs": []
    },
    {
      "cell_type": "code",
      "source": [
        "def visualizar(plot_state,x,y,iteration_state,optimal,optimization_state):\n",
        "    (ax1,ax2,ax3)=plot_state.axes\n",
        "    # Visualizacion\n",
        "    \n",
        "    #actualizar linea del modelo actual\n",
        "    ax1.lines.pop()\n",
        "    x_pad=10\n",
        "    min_x,max_x=x.min()-x_pad,x.max()+x_pad\n",
        "    ax1.plot([min_x,max_x],[min_x*m+b,max_x*m+b],color=\"red\")\n",
        "    # ax3.scatter(iteration_state.m, iteration_state.b, iteration_state.mean_error,c=\"black\",s=50)\n",
        "    ax3.scatter([iteration_state.m], [iteration_state.b],c=\"white\",s=40)\n",
        "    \n",
        "    # Mostrar leyendas\n",
        "    model = patches.Patch(color='red', label='Modelo: y=x*({:.2f})+({:.2f})'.format(iteration_state.m,iteration_state.b))\n",
        "    model_true = patches.Patch(color='cyan', label='Modelo óptimo: y=x*({:.2f})+({:.2f})'.format(optimal.m,optimal.b))\n",
        "    label='$\\\\frac{ \\\\partial E}{\\\\partial m}=$ %.2f, $\\\\frac{ \\\\partial E}{\\\\partial b}$ %.2f' %(iteration_state.dEdm,iteration_state.dEdb)\n",
        "    derivatives = patches.Patch(color='red', label=label)\n",
        "    error_patch = patches.Patch(color='red', label='$E=\\\\frac{1}{n} \\sum_i^n E_i=$ %.2f' % (iteration_state.mean_error))\n",
        "    optimal_error = patches.Patch(color='cyan', label='E del modelo óptimo: %.2f' % (optimal.error))\n",
        "    handles=[model,derivatives,error_patch,model_true,optimal_error]\n",
        "    ax1.legend(handles=handles)\n",
        "    \n",
        "    ax2.lines.clear()\n",
        "    ax2.plot(optimization_state.error_history,color=\"blue\")\n",
        "    \n",
        "    ax1.set_title(\"Iteración %03d / %03d\" % (iteration_state.iteration+1,optimization_state.max_iterations))\n",
        "    \n",
        "    plt.show()"
      ],
      "metadata": {
        "id": "VDINeS7naV0o"
      },
      "execution_count": 31,
      "outputs": []
    },
    {
      "cell_type": "markdown",
      "source": [
        "# Carga de datos"
      ],
      "metadata": {
        "id": "Tt500LiMa4Qj"
      }
    },
    {
      "cell_type": "code",
      "source": [
        "dataset_base=\"https://github.com/KevinFDI/IML_Practica_2/tree/main/datasets\"\n",
        "dataset=\"https://raw.githubusercontent.com/KevinFDI/IML_Practica_2/main/datasets/study_regression_small.csv\""
      ],
      "metadata": {
        "id": "TjNvO_5ra7Wb"
      },
      "execution_count": 32,
      "outputs": []
    },
    {
      "cell_type": "code",
      "source": [
        "import urllib\n",
        "\n",
        "data = urllib.request.urlopen(dataset)\n",
        "data=np.loadtxt(data, delimiter=\",\", skiprows=1)\n",
        "x,y=data[:,0],data[:,1]\n"
      ],
      "metadata": {
        "id": "pDVVCiQobs0z"
      },
      "execution_count": 33,
      "outputs": []
    },
    {
      "cell_type": "markdown",
      "source": [
        "# PARÁMETROS"
      ],
      "metadata": {
        "id": "THM5NEPhbbgK"
      }
    },
    {
      "cell_type": "markdown",
      "source": [
        "**Normalizar**"
      ],
      "metadata": {
        "id": "SUiiS6Bjbnj7"
      }
    },
    {
      "cell_type": "code",
      "source": [
        "NORMALIZAR= 1\n",
        "if (NORMALIZAR):\n",
        "    x= (x - x.mean()) / x.std()\n",
        "    y= (y - y.mean()) / y.std()"
      ],
      "metadata": {
        "id": "YJt77Fp3bkzW"
      },
      "execution_count": 34,
      "outputs": []
    },
    {
      "cell_type": "markdown",
      "source": [
        "Configuración del descenso de gradiente"
      ],
      "metadata": {
        "id": "bgMM28BQc4vV"
      }
    },
    {
      "cell_type": "markdown",
      "source": [
        "**Parámetros iniciales del modelo (probar valores entre -5 y 5)**"
      ],
      "metadata": {
        "id": "MUbShMN9c7qE"
      }
    },
    {
      "cell_type": "code",
      "source": [
        "m= 2\n",
        "b= -3"
      ],
      "metadata": {
        "id": "1v1IibyFc878"
      },
      "execution_count": 35,
      "outputs": []
    },
    {
      "cell_type": "markdown",
      "source": [
        "Iteraciones máximas a realizar\n"
      ],
      "metadata": {
        "id": "6DsvzMm0dC5T"
      }
    },
    {
      "cell_type": "code",
      "source": [
        "max_iterations= 300"
      ],
      "metadata": {
        "id": "Iqt3vhVQdDDz"
      },
      "execution_count": 36,
      "outputs": []
    },
    {
      "cell_type": "markdown",
      "source": [
        "Minimo de tolerancia para el cambio del error entre iteraciones"
      ],
      "metadata": {
        "id": "5bC5HF2PdDLc"
      }
    },
    {
      "cell_type": "code",
      "source": [
        "tolerance=0.0000001"
      ],
      "metadata": {
        "id": "Ne5EQR55dDTz"
      },
      "execution_count": 37,
      "outputs": []
    },
    {
      "cell_type": "markdown",
      "source": [
        "Velocidad de aprendizaje\n",
        "\n",
        "\n",
        "Valores sensatos: entre 0.00001 y 0.001"
      ],
      "metadata": {
        "id": "ZcmZtmbmdDaD"
      }
    },
    {
      "cell_type": "code",
      "source": [
        "alpha= 0.007"
      ],
      "metadata": {
        "id": "af3Q5QcBdDhb"
      },
      "execution_count": 38,
      "outputs": []
    },
    {
      "cell_type": "markdown",
      "source": [
        "Velocidad de visualización"
      ],
      "metadata": {
        "id": "CWnvw7lodDnj"
      }
    },
    {
      "cell_type": "code",
      "source": [
        "fps= 10\n",
        "plot_jumps= 5"
      ],
      "metadata": {
        "id": "U7uzuRlWdDu-"
      },
      "execution_count": 39,
      "outputs": []
    },
    {
      "cell_type": "markdown",
      "source": [
        "Fin Configuración"
      ],
      "metadata": {
        "id": "G4iT1Xg-daKP"
      }
    },
    {
      "cell_type": "markdown",
      "source": [
        "Cálculo del valor óptimo mediante cuadrados mínimos"
      ],
      "metadata": {
        "id": "eETopA1yeXT0"
      }
    },
    {
      "cell_type": "code",
      "source": [
        "optimal=optimal_model(x,y)"
      ],
      "metadata": {
        "id": "Dbmck7yodfrm"
      },
      "execution_count": 40,
      "outputs": []
    },
    {
      "cell_type": "markdown",
      "source": [
        "Fin cálculo del valor óptimo mediante cuadrados mínimos"
      ],
      "metadata": {
        "id": "gnJoPWHqeRv2"
      }
    },
    {
      "cell_type": "markdown",
      "source": [
        "# INICIALIAZACIÓN DEL ALGORITMO"
      ],
      "metadata": {
        "id": "NDEg03EPeBHc"
      }
    },
    {
      "cell_type": "code",
      "source": [
        "iteration=0\n",
        "mean_error_last=tolerance+1\n",
        "mean_error=0\n",
        "error_history=[]"
      ],
      "metadata": {
        "id": "wpsGBkXbdfuK"
      },
      "execution_count": 41,
      "outputs": []
    },
    {
      "cell_type": "markdown",
      "source": [
        "Fin inicialización del algoritmo"
      ],
      "metadata": {
        "id": "J33gf1YMeDj1"
      }
    },
    {
      "cell_type": "markdown",
      "source": [
        "Opciones de visualización "
      ],
      "metadata": {
        "id": "8AZd0EWHd5Ab"
      }
    },
    {
      "cell_type": "code",
      "source": [
        "plt.ion()"
      ],
      "metadata": {
        "id": "QR-q0uIXdfw0"
      },
      "execution_count": 42,
      "outputs": []
    },
    {
      "cell_type": "markdown",
      "source": [
        "Fin opciones de visualización"
      ],
      "metadata": {
        "id": "MyaBBZKidynU"
      }
    },
    {
      "cell_type": "code",
      "source": [
        "plot_state=init_plot(x,y,optimal,m,b)\n",
        "optimization_state= OptimizationState(max_iterations=max_iterations,error_history=[])"
      ],
      "metadata": {
        "colab": {
          "base_uri": "https://localhost:8080/",
          "height": 422
        },
        "id": "HkPn-m_VdfzL",
        "outputId": "5bc82db2-efa6-4bd4-8692-0c8e2e53e743"
      },
      "execution_count": 43,
      "outputs": [
        {
          "output_type": "display_data",
          "data": {
            "text/plain": [
              "<Figure size 600x400 with 4 Axes>"
            ],
            "image/png": "[encoded data removed]"
          },
          "metadata": {
            "needs_background": "light"
          }
        }
      ]
    },
    {
      "cell_type": "markdown",
      "source": [
        "# DECENSO DE GRADIENTE"
      ],
      "metadata": {
        "id": "GZZ40dF4dkFc"
      }
    },
    {
      "cell_type": "code",
      "source": [
        "while iteration<optimization_state.max_iterations and abs(mean_error_last-mean_error)>tolerance:\n",
        "    \n",
        "    #DESCENSO DE GRADIENTE\n",
        "    #predicciones del modelo\n",
        "    yhat=x*m+b\n",
        "    # calculo de derivadas\n",
        "    dEdm=2*((yhat-y)*x).mean()\n",
        "    dEdb=2*(yhat-y).mean()\n",
        "    #actualizo los parámetros\n",
        "    m=m-alpha*dEdm\n",
        "    b=b-alpha*dEdb\n",
        "    # FIN DESCENSO DE GRADIENTE\n",
        "    \n",
        "    #CALCULO DE ERROR\n",
        "    #Calculo del error del modelo\n",
        "    errors= (y-yhat)**2\n",
        "    mean_error_last=mean_error\n",
        "    mean_error=errors.mean()\n",
        "    optimization_state.error_history.append(mean_error)\n",
        "    #FIN CALCULO DE ERROR\n",
        "    \n",
        "    #visualización\n",
        "    if (iteration % plot_jumps ==0):\n",
        "        iteration_state=IterationState(iteration,m,b,dEdm, dEdb,yhat,errors,mean_error)\n",
        "        visualizar(plot_state,x,y,iteration_state,optimal,optimization_state)\n",
        "        plt.pause(1/fps)\n",
        "    # fin visualización\n",
        "    plt.show()\n",
        "    iteration+=1\n",
        "\n",
        "display(plot_state.figure)\n",
        "clear_output(wait = True)"
      ],
      "metadata": {
        "id": "mUBLX_d4df2U",
        "colab": {
          "base_uri": "https://localhost:8080/",
          "height": 422
        },
        "outputId": "2306f9b6-8af9-4d3b-92e4-4786a5c333ca"
      },
      "execution_count": 44,
      "outputs": [
        {
          "output_type": "display_data",
          "data": {
            "text/plain": [
              "<Figure size 600x400 with 4 Axes>"
            ],
            "image/png": "[encoded data removed]"
          },
          "metadata": {}
        }
      ]
    }
  ]
}