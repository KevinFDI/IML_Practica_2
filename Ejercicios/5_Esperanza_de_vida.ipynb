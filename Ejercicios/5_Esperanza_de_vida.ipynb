{
  "nbformat": 4,
  "nbformat_minor": 0,
  "metadata": {
    "colab": {
      "name": "5. Esperanza de vida",
      "provenance": [],
      "collapsed_sections": []
    },
    "kernelspec": {
      "name": "python3",
      "display_name": "Python 3"
    },
    "language_info": {
      "name": "python"
    }
  },
  "cells": [
    {
      "cell_type": "markdown",
      "source": [
        "# **5) WHO LIFE EXPECTANCY**"
      ],
      "metadata": {
        "id": "KcEfBEybR9gU"
      }
    },
    {
      "cell_type": "code",
      "execution_count": 1052,
      "metadata": {
        "id": "QH6l3AJtRxAT"
      },
      "outputs": [],
      "source": [
        "import numpy as np\n",
        "import matplotlib.pyplot as plt\n",
        "import pandas as pd\n",
        "import random\n",
        "import seaborn as sns\n",
        "\n",
        "from sklearn.metrics import mean_squared_error, mean_absolute_error, r2_score\n",
        "\n",
        "from sklearn.preprocessing import StandardScaler \n",
        "\n",
        "from sklearn.linear_model import LinearRegression\n",
        "lr = LinearRegression()"
      ]
    },
    {
      "cell_type": "markdown",
      "source": [
        "Utilizo la librería Pandas para abrir el archivo"
      ],
      "metadata": {
        "id": "t37IDCq8SHvH"
      }
    },
    {
      "cell_type": "code",
      "source": [
        "df = pd.read_csv(r\"https://raw.githubusercontent.com/KevinFDI/IML_Practica_2/main/datasets/who_life_expectancy.csv\")"
      ],
      "metadata": {
        "id": "CqgsssYNSKJI"
      },
      "execution_count": 1053,
      "outputs": []
    },
    {
      "cell_type": "markdown",
      "source": [
        "Veo los primeros datos del dataset"
      ],
      "metadata": {
        "id": "94gbf6vISkv1"
      }
    },
    {
      "cell_type": "code",
      "source": [
        "df.head(10)"
      ],
      "metadata": {
        "colab": {
          "base_uri": "https://localhost:8080/",
          "height": 393
        },
        "id": "oBnigUKoSigc",
        "outputId": "3f9c255d-8cb0-4a40-ee65-a926644616ef"
      },
      "execution_count": 1054,
      "outputs": [
        {
          "output_type": "execute_result",
          "data": {
            "text/plain": [
              "       Country  Year      Status  Life expectancy   Adult Mortality  \\\n",
              "0  Afghanistan  2015  Developing              65.0            263.0   \n",
              "1  Afghanistan  2014  Developing              59.9            271.0   \n",
              "2  Afghanistan  2013  Developing              59.9            268.0   \n",
              "3  Afghanistan  2012  Developing              59.5            272.0   \n",
              "4  Afghanistan  2011  Developing              59.2            275.0   \n",
              "5  Afghanistan  2010  Developing              58.8            279.0   \n",
              "6  Afghanistan  2009  Developing              58.6            281.0   \n",
              "7  Afghanistan  2008  Developing              58.1            287.0   \n",
              "8  Afghanistan  2007  Developing              57.5            295.0   \n",
              "9  Afghanistan  2006  Developing              57.3            295.0   \n",
              "\n",
              "   infant deaths  Alcohol  percentage expenditure  Hepatitis B  Measles   ...  \\\n",
              "0             62     0.01               71.279624         65.0      1154  ...   \n",
              "1             64     0.01               73.523582         62.0       492  ...   \n",
              "2             66     0.01               73.219243         64.0       430  ...   \n",
              "3             69     0.01               78.184215         67.0      2787  ...   \n",
              "4             71     0.01                7.097109         68.0      3013  ...   \n",
              "5             74     0.01               79.679367         66.0      1989  ...   \n",
              "6             77     0.01               56.762217         63.0      2861  ...   \n",
              "7             80     0.03               25.873925         64.0      1599  ...   \n",
              "8             82     0.02               10.910156         63.0      1141  ...   \n",
              "9             84     0.03               17.171518         64.0      1990  ...   \n",
              "\n",
              "   Polio  Total expenditure  Diphtheria    HIV/AIDS         GDP  Population  \\\n",
              "0    6.0               8.16         65.0        0.1  584.259210  33736494.0   \n",
              "1   58.0               8.18         62.0        0.1  612.696514    327582.0   \n",
              "2   62.0               8.13         64.0        0.1  631.744976  31731688.0   \n",
              "3   67.0               8.52         67.0        0.1  669.959000   3696958.0   \n",
              "4   68.0               7.87         68.0        0.1   63.537231   2978599.0   \n",
              "5   66.0               9.20         66.0        0.1  553.328940   2883167.0   \n",
              "6   63.0               9.42         63.0        0.1  445.893298    284331.0   \n",
              "7   64.0               8.33         64.0        0.1  373.361116   2729431.0   \n",
              "8   63.0               6.73         63.0        0.1  369.835796  26616792.0   \n",
              "9   58.0               7.43         58.0        0.1  272.563770   2589345.0   \n",
              "\n",
              "    thinness  1-19 years   thinness 5-9 years  \\\n",
              "0                   17.2                 17.3   \n",
              "1                   17.5                 17.5   \n",
              "2                   17.7                 17.7   \n",
              "3                   17.9                 18.0   \n",
              "4                   18.2                 18.2   \n",
              "5                   18.4                 18.4   \n",
              "6                   18.6                 18.7   \n",
              "7                   18.8                 18.9   \n",
              "8                   19.0                 19.1   \n",
              "9                   19.2                 19.3   \n",
              "\n",
              "   Income composition of resources  Schooling  \n",
              "0                            0.479       10.1  \n",
              "1                            0.476       10.0  \n",
              "2                            0.470        9.9  \n",
              "3                            0.463        9.8  \n",
              "4                            0.454        9.5  \n",
              "5                            0.448        9.2  \n",
              "6                            0.434        8.9  \n",
              "7                            0.433        8.7  \n",
              "8                            0.415        8.4  \n",
              "9                            0.405        8.1  \n",
              "\n",
              "[10 rows x 22 columns]"
            ],
            "text/html": [
              "\n",
              "  <div id=\"df-c764fb03-a4c0-48c4-830f-c49147a5bf10\">\n",
              "    <div class=\"colab-df-container\">\n",
              "      <div>\n",
              "<style scoped>\n",
              "    .dataframe tbody tr th:only-of-type {\n",
              "        vertical-align: middle;\n",
              "    }\n",
              "\n",
              "    .dataframe tbody tr th {\n",
              "        vertical-align: top;\n",
              "    }\n",
              "\n",
              "    .dataframe thead th {\n",
              "        text-align: right;\n",
              "    }\n",
              "</style>\n",
              "<table border=\"1\" class=\"dataframe\">\n",
              "  <thead>\n",
              "    <tr style=\"text-align: right;\">\n",
              "      <th></th>\n",
              "      <th>Country</th>\n",
              "      <th>Year</th>\n",
              "      <th>Status</th>\n",
              "      <th>Life expectancy</th>\n",
              "      <th>Adult Mortality</th>\n",
              "      <th>infant deaths</th>\n",
              "      <th>Alcohol</th>\n",
              "      <th>percentage expenditure</th>\n",
              "      <th>Hepatitis B</th>\n",
              "      <th>Measles</th>\n",
              "      <th>...</th>\n",
              "      <th>Polio</th>\n",
              "      <th>Total expenditure</th>\n",
              "      <th>Diphtheria</th>\n",
              "      <th>HIV/AIDS</th>\n",
              "      <th>GDP</th>\n",
              "      <th>Population</th>\n",
              "      <th>thinness  1-19 years</th>\n",
              "      <th>thinness 5-9 years</th>\n",
              "      <th>Income composition of resources</th>\n",
              "      <th>Schooling</th>\n",
              "    </tr>\n",
              "  </thead>\n",
              "  <tbody>\n",
              "    <tr>\n",
              "      <th>0</th>\n",
              "      <td>Afghanistan</td>\n",
              "      <td>2015</td>\n",
              "      <td>Developing</td>\n",
              "      <td>65.0</td>\n",
              "      <td>263.0</td>\n",
              "      <td>62</td>\n",
              "      <td>0.01</td>\n",
              "      <td>71.279624</td>\n",
              "      <td>65.0</td>\n",
              "      <td>1154</td>\n",
              "      <td>...</td>\n",
              "      <td>6.0</td>\n",
              "      <td>8.16</td>\n",
              "      <td>65.0</td>\n",
              "      <td>0.1</td>\n",
              "      <td>584.259210</td>\n",
              "      <td>33736494.0</td>\n",
              "      <td>17.2</td>\n",
              "      <td>17.3</td>\n",
              "      <td>0.479</td>\n",
              "      <td>10.1</td>\n",
              "    </tr>\n",
              "    <tr>\n",
              "      <th>1</th>\n",
              "      <td>Afghanistan</td>\n",
              "      <td>2014</td>\n",
              "      <td>Developing</td>\n",
              "      <td>59.9</td>\n",
              "      <td>271.0</td>\n",
              "      <td>64</td>\n",
              "      <td>0.01</td>\n",
              "      <td>73.523582</td>\n",
              "      <td>62.0</td>\n",
              "      <td>492</td>\n",
              "      <td>...</td>\n",
              "      <td>58.0</td>\n",
              "      <td>8.18</td>\n",
              "      <td>62.0</td>\n",
              "      <td>0.1</td>\n",
              "      <td>612.696514</td>\n",
              "      <td>327582.0</td>\n",
              "      <td>17.5</td>\n",
              "      <td>17.5</td>\n",
              "      <td>0.476</td>\n",
              "      <td>10.0</td>\n",
              "    </tr>\n",
              "    <tr>\n",
              "      <th>2</th>\n",
              "      <td>Afghanistan</td>\n",
              "      <td>2013</td>\n",
              "      <td>Developing</td>\n",
              "      <td>59.9</td>\n",
              "      <td>268.0</td>\n",
              "      <td>66</td>\n",
              "      <td>0.01</td>\n",
              "      <td>73.219243</td>\n",
              "      <td>64.0</td>\n",
              "      <td>430</td>\n",
              "      <td>...</td>\n",
              "      <td>62.0</td>\n",
              "      <td>8.13</td>\n",
              "      <td>64.0</td>\n",
              "      <td>0.1</td>\n",
              "      <td>631.744976</td>\n",
              "      <td>31731688.0</td>\n",
              "      <td>17.7</td>\n",
              "      <td>17.7</td>\n",
              "      <td>0.470</td>\n",
              "      <td>9.9</td>\n",
              "    </tr>\n",
              "    <tr>\n",
              "      <th>3</th>\n",
              "      <td>Afghanistan</td>\n",
              "      <td>2012</td>\n",
              "      <td>Developing</td>\n",
              "      <td>59.5</td>\n",
              "      <td>272.0</td>\n",
              "      <td>69</td>\n",
              "      <td>0.01</td>\n",
              "      <td>78.184215</td>\n",
              "      <td>67.0</td>\n",
              "      <td>2787</td>\n",
              "      <td>...</td>\n",
              "      <td>67.0</td>\n",
              "      <td>8.52</td>\n",
              "      <td>67.0</td>\n",
              "      <td>0.1</td>\n",
              "      <td>669.959000</td>\n",
              "      <td>3696958.0</td>\n",
              "      <td>17.9</td>\n",
              "      <td>18.0</td>\n",
              "      <td>0.463</td>\n",
              "      <td>9.8</td>\n",
              "    </tr>\n",
              "    <tr>\n",
              "      <th>4</th>\n",
              "      <td>Afghanistan</td>\n",
              "      <td>2011</td>\n",
              "      <td>Developing</td>\n",
              "      <td>59.2</td>\n",
              "      <td>275.0</td>\n",
              "      <td>71</td>\n",
              "      <td>0.01</td>\n",
              "      <td>7.097109</td>\n",
              "      <td>68.0</td>\n",
              "      <td>3013</td>\n",
              "      <td>...</td>\n",
              "      <td>68.0</td>\n",
              "      <td>7.87</td>\n",
              "      <td>68.0</td>\n",
              "      <td>0.1</td>\n",
              "      <td>63.537231</td>\n",
              "      <td>2978599.0</td>\n",
              "      <td>18.2</td>\n",
              "      <td>18.2</td>\n",
              "      <td>0.454</td>\n",
              "      <td>9.5</td>\n",
              "    </tr>\n",
              "    <tr>\n",
              "      <th>5</th>\n",
              "      <td>Afghanistan</td>\n",
              "      <td>2010</td>\n",
              "      <td>Developing</td>\n",
              "      <td>58.8</td>\n",
              "      <td>279.0</td>\n",
              "      <td>74</td>\n",
              "      <td>0.01</td>\n",
              "      <td>79.679367</td>\n",
              "      <td>66.0</td>\n",
              "      <td>1989</td>\n",
              "      <td>...</td>\n",
              "      <td>66.0</td>\n",
              "      <td>9.20</td>\n",
              "      <td>66.0</td>\n",
              "      <td>0.1</td>\n",
              "      <td>553.328940</td>\n",
              "      <td>2883167.0</td>\n",
              "      <td>18.4</td>\n",
              "      <td>18.4</td>\n",
              "      <td>0.448</td>\n",
              "      <td>9.2</td>\n",
              "    </tr>\n",
              "    <tr>\n",
              "      <th>6</th>\n",
              "      <td>Afghanistan</td>\n",
              "      <td>2009</td>\n",
              "      <td>Developing</td>\n",
              "      <td>58.6</td>\n",
              "      <td>281.0</td>\n",
              "      <td>77</td>\n",
              "      <td>0.01</td>\n",
              "      <td>56.762217</td>\n",
              "      <td>63.0</td>\n",
              "      <td>2861</td>\n",
              "      <td>...</td>\n",
              "      <td>63.0</td>\n",
              "      <td>9.42</td>\n",
              "      <td>63.0</td>\n",
              "      <td>0.1</td>\n",
              "      <td>445.893298</td>\n",
              "      <td>284331.0</td>\n",
              "      <td>18.6</td>\n",
              "      <td>18.7</td>\n",
              "      <td>0.434</td>\n",
              "      <td>8.9</td>\n",
              "    </tr>\n",
              "    <tr>\n",
              "      <th>7</th>\n",
              "      <td>Afghanistan</td>\n",
              "      <td>2008</td>\n",
              "      <td>Developing</td>\n",
              "      <td>58.1</td>\n",
              "      <td>287.0</td>\n",
              "      <td>80</td>\n",
              "      <td>0.03</td>\n",
              "      <td>25.873925</td>\n",
              "      <td>64.0</td>\n",
              "      <td>1599</td>\n",
              "      <td>...</td>\n",
              "      <td>64.0</td>\n",
              "      <td>8.33</td>\n",
              "      <td>64.0</td>\n",
              "      <td>0.1</td>\n",
              "      <td>373.361116</td>\n",
              "      <td>2729431.0</td>\n",
              "      <td>18.8</td>\n",
              "      <td>18.9</td>\n",
              "      <td>0.433</td>\n",
              "      <td>8.7</td>\n",
              "    </tr>\n",
              "    <tr>\n",
              "      <th>8</th>\n",
              "      <td>Afghanistan</td>\n",
              "      <td>2007</td>\n",
              "      <td>Developing</td>\n",
              "      <td>57.5</td>\n",
              "      <td>295.0</td>\n",
              "      <td>82</td>\n",
              "      <td>0.02</td>\n",
              "      <td>10.910156</td>\n",
              "      <td>63.0</td>\n",
              "      <td>1141</td>\n",
              "      <td>...</td>\n",
              "      <td>63.0</td>\n",
              "      <td>6.73</td>\n",
              "      <td>63.0</td>\n",
              "      <td>0.1</td>\n",
              "      <td>369.835796</td>\n",
              "      <td>26616792.0</td>\n",
              "      <td>19.0</td>\n",
              "      <td>19.1</td>\n",
              "      <td>0.415</td>\n",
              "      <td>8.4</td>\n",
              "    </tr>\n",
              "    <tr>\n",
              "      <th>9</th>\n",
              "      <td>Afghanistan</td>\n",
              "      <td>2006</td>\n",
              "      <td>Developing</td>\n",
              "      <td>57.3</td>\n",
              "      <td>295.0</td>\n",
              "      <td>84</td>\n",
              "      <td>0.03</td>\n",
              "      <td>17.171518</td>\n",
              "      <td>64.0</td>\n",
              "      <td>1990</td>\n",
              "      <td>...</td>\n",
              "      <td>58.0</td>\n",
              "      <td>7.43</td>\n",
              "      <td>58.0</td>\n",
              "      <td>0.1</td>\n",
              "      <td>272.563770</td>\n",
              "      <td>2589345.0</td>\n",
              "      <td>19.2</td>\n",
              "      <td>19.3</td>\n",
              "      <td>0.405</td>\n",
              "      <td>8.1</td>\n",
              "    </tr>\n",
              "  </tbody>\n",
              "</table>\n",
              "<p>10 rows × 22 columns</p>\n",
              "</div>\n",
              "      <button class=\"colab-df-convert\" onclick=\"convertToInteractive('df-c764fb03-a4c0-48c4-830f-c49147a5bf10')\"\n",
              "              title=\"Convert this dataframe to an interactive table.\"\n",
              "              style=\"display:none;\">\n",
              "        \n",
              "  <svg xmlns=\"http://www.w3.org/2000/svg\" height=\"24px\"viewBox=\"0 0 24 24\"\n",
              "       width=\"24px\">\n",
              "    <path d=\"M0 0h24v24H0V0z\" fill=\"none\"/>\n",
              "    <path d=\"M18.56 5.44l.94 2.06.94-2.06 2.06-.94-2.06-.94-.94-2.06-.94 2.06-2.06.94zm-11 1L8.5 8.5l.94-2.06 2.06-.94-2.06-.94L8.5 2.5l-.94 2.06-2.06.94zm10 10l.94 2.06.94-2.06 2.06-.94-2.06-.94-.94-2.06-.94 2.06-2.06.94z\"/><path d=\"M17.41 7.96l-1.37-1.37c-.4-.4-.92-.59-1.43-.59-.52 0-1.04.2-1.43.59L10.3 9.45l-7.72 7.72c-.78.78-.78 2.05 0 2.83L4 21.41c.39.39.9.59 1.41.59.51 0 1.02-.2 1.41-.59l7.78-7.78 2.81-2.81c.8-.78.8-2.07 0-2.86zM5.41 20L4 18.59l7.72-7.72 1.47 1.35L5.41 20z\"/>\n",
              "  </svg>\n",
              "      </button>\n",
              "      \n",
              "  <style>\n",
              "    .colab-df-container {\n",
              "      display:flex;\n",
              "      flex-wrap:wrap;\n",
              "      gap: 12px;\n",
              "    }\n",
              "\n",
              "    .colab-df-convert {\n",
              "      background-color: #E8F0FE;\n",
              "      border: none;\n",
              "      border-radius: 50%;\n",
              "      cursor: pointer;\n",
              "      display: none;\n",
              "      fill: #1967D2;\n",
              "      height: 32px;\n",
              "      padding: 0 0 0 0;\n",
              "      width: 32px;\n",
              "    }\n",
              "\n",
              "    .colab-df-convert:hover {\n",
              "      background-color: #E2EBFA;\n",
              "      box-shadow: 0px 1px 2px rgba(60, 64, 67, 0.3), 0px 1px 3px 1px rgba(60, 64, 67, 0.15);\n",
              "      fill: #174EA6;\n",
              "    }\n",
              "\n",
              "    [theme=dark] .colab-df-convert {\n",
              "      background-color: #3B4455;\n",
              "      fill: #D2E3FC;\n",
              "    }\n",
              "\n",
              "    [theme=dark] .colab-df-convert:hover {\n",
              "      background-color: #434B5C;\n",
              "      box-shadow: 0px 1px 3px 1px rgba(0, 0, 0, 0.15);\n",
              "      filter: drop-shadow(0px 1px 2px rgba(0, 0, 0, 0.3));\n",
              "      fill: #FFFFFF;\n",
              "    }\n",
              "  </style>\n",
              "\n",
              "      <script>\n",
              "        const buttonEl =\n",
              "          document.querySelector('#df-c764fb03-a4c0-48c4-830f-c49147a5bf10 button.colab-df-convert');\n",
              "        buttonEl.style.display =\n",
              "          google.colab.kernel.accessAllowed ? 'block' : 'none';\n",
              "\n",
              "        async function convertToInteractive(key) {\n",
              "          const element = document.querySelector('#df-c764fb03-a4c0-48c4-830f-c49147a5bf10');\n",
              "          const dataTable =\n",
              "            await google.colab.kernel.invokeFunction('convertToInteractive',\n",
              "                                                     [key], {});\n",
              "          if (!dataTable) return;\n",
              "\n",
              "          const docLinkHtml = 'Like what you see? Visit the ' +\n",
              "            '<a target=\"_blank\" href=https://colab.research.google.com/notebooks/data_table.ipynb>data table notebook</a>'\n",
              "            + ' to learn more about interactive tables.';\n",
              "          element.innerHTML = '';\n",
              "          dataTable['output_type'] = 'display_data';\n",
              "          await google.colab.output.renderOutput(dataTable, element);\n",
              "          const docLink = document.createElement('div');\n",
              "          docLink.innerHTML = docLinkHtml;\n",
              "          element.appendChild(docLink);\n",
              "        }\n",
              "      </script>\n",
              "    </div>\n",
              "  </div>\n",
              "  "
            ]
          },
          "metadata": {},
          "execution_count": 1054
        }
      ]
    },
    {
      "cell_type": "code",
      "source": [
        "df.info();"
      ],
      "metadata": {
        "colab": {
          "base_uri": "https://localhost:8080/"
        },
        "id": "R2CRh0OOSrWJ",
        "outputId": "3e17fd80-c5ab-4699-dc43-30eb9069321f"
      },
      "execution_count": 1055,
      "outputs": [
        {
          "output_type": "stream",
          "name": "stdout",
          "text": [
            "<class 'pandas.core.frame.DataFrame'>\n",
            "RangeIndex: 2938 entries, 0 to 2937\n",
            "Data columns (total 22 columns):\n",
            " #   Column                           Non-Null Count  Dtype  \n",
            "---  ------                           --------------  -----  \n",
            " 0   Country                          2938 non-null   object \n",
            " 1   Year                             2938 non-null   int64  \n",
            " 2   Status                           2938 non-null   object \n",
            " 3   Life expectancy                  2928 non-null   float64\n",
            " 4   Adult Mortality                  2928 non-null   float64\n",
            " 5   infant deaths                    2938 non-null   int64  \n",
            " 6   Alcohol                          2744 non-null   float64\n",
            " 7   percentage expenditure           2938 non-null   float64\n",
            " 8   Hepatitis B                      2385 non-null   float64\n",
            " 9   Measles                          2938 non-null   int64  \n",
            " 10   BMI                             2904 non-null   float64\n",
            " 11  under-five deaths                2938 non-null   int64  \n",
            " 12  Polio                            2919 non-null   float64\n",
            " 13  Total expenditure                2712 non-null   float64\n",
            " 14  Diphtheria                       2919 non-null   float64\n",
            " 15   HIV/AIDS                        2938 non-null   float64\n",
            " 16  GDP                              2490 non-null   float64\n",
            " 17  Population                       2286 non-null   float64\n",
            " 18   thinness  1-19 years            2904 non-null   float64\n",
            " 19   thinness 5-9 years              2904 non-null   float64\n",
            " 20  Income composition of resources  2771 non-null   float64\n",
            " 21  Schooling                        2775 non-null   float64\n",
            "dtypes: float64(16), int64(4), object(2)\n",
            "memory usage: 505.1+ KB\n"
          ]
        }
      ]
    },
    {
      "cell_type": "markdown",
      "source": [
        "Renombro las columnas dado que algunas tenían un espacio adelante o atrás."
      ],
      "metadata": {
        "id": "azttNzi7TzCY"
      }
    },
    {
      "cell_type": "code",
      "source": [
        "df.rename(columns={\n",
        "    \"Life expectancy \": \"Life_Expectancy\",\t\n",
        "    \"Adult Mortality\": \"Adult_Mortality\",\t\n",
        "    \"infant deaths\": \"Infant_Deaths\",\t\n",
        "    \"percentage expenditure\": \"Percentage_Expenditure\",\t\n",
        "    \"Hepatitis B\": \"Hepatitis_B\",\t\n",
        "    \"Measles \": \"Measles\", \n",
        "    \" BMI \": \"BMI\", \n",
        "    \"under-five deaths \": \"Under_Five_Deaths\",\n",
        "    \"Total expenditure\": \"Total_Expenditure\",\t\n",
        "    \" HIV/AIDS\": \"HIV/AIDS\",\n",
        "    \"Diphtheria \": \"Diphtheria\",\t\t\n",
        "    \" thinness  1-19 years\": \"Thinness_1-19_years\",\n",
        "    \" thinness 5-9 years\": \"Thinness_5-9_years\",\n",
        "    \"Income composition of resources\": \"Income_Composition_of_Resources\"\n",
        "    },\n",
        "    inplace=True)"
      ],
      "metadata": {
        "id": "Tu2MEueFT0el"
      },
      "execution_count": 1056,
      "outputs": []
    },
    {
      "cell_type": "markdown",
      "source": [
        "Vuelvo a probar el head para comprobar que el cambio de nombre se haya completado correctamente"
      ],
      "metadata": {
        "id": "5iUOfZDxT5_w"
      }
    },
    {
      "cell_type": "code",
      "source": [
        "round(df.head(10), 2)"
      ],
      "metadata": {
        "colab": {
          "base_uri": "https://localhost:8080/",
          "height": 393
        },
        "id": "wWPHM4AoT7CN",
        "outputId": "b69e592e-ef47-4e56-f9dd-7beaebd512bf"
      },
      "execution_count": 1057,
      "outputs": [
        {
          "output_type": "execute_result",
          "data": {
            "text/plain": [
              "       Country  Year      Status  Life_Expectancy  Adult_Mortality  \\\n",
              "0  Afghanistan  2015  Developing             65.0            263.0   \n",
              "1  Afghanistan  2014  Developing             59.9            271.0   \n",
              "2  Afghanistan  2013  Developing             59.9            268.0   \n",
              "3  Afghanistan  2012  Developing             59.5            272.0   \n",
              "4  Afghanistan  2011  Developing             59.2            275.0   \n",
              "5  Afghanistan  2010  Developing             58.8            279.0   \n",
              "6  Afghanistan  2009  Developing             58.6            281.0   \n",
              "7  Afghanistan  2008  Developing             58.1            287.0   \n",
              "8  Afghanistan  2007  Developing             57.5            295.0   \n",
              "9  Afghanistan  2006  Developing             57.3            295.0   \n",
              "\n",
              "   Infant_Deaths  Alcohol  Percentage_Expenditure  Hepatitis_B  Measles  ...  \\\n",
              "0             62     0.01                   71.28         65.0     1154  ...   \n",
              "1             64     0.01                   73.52         62.0      492  ...   \n",
              "2             66     0.01                   73.22         64.0      430  ...   \n",
              "3             69     0.01                   78.18         67.0     2787  ...   \n",
              "4             71     0.01                    7.10         68.0     3013  ...   \n",
              "5             74     0.01                   79.68         66.0     1989  ...   \n",
              "6             77     0.01                   56.76         63.0     2861  ...   \n",
              "7             80     0.03                   25.87         64.0     1599  ...   \n",
              "8             82     0.02                   10.91         63.0     1141  ...   \n",
              "9             84     0.03                   17.17         64.0     1990  ...   \n",
              "\n",
              "   Polio  Total_Expenditure  Diphtheria  HIV/AIDS     GDP  Population  \\\n",
              "0    6.0               8.16        65.0       0.1  584.26  33736494.0   \n",
              "1   58.0               8.18        62.0       0.1  612.70    327582.0   \n",
              "2   62.0               8.13        64.0       0.1  631.74  31731688.0   \n",
              "3   67.0               8.52        67.0       0.1  669.96   3696958.0   \n",
              "4   68.0               7.87        68.0       0.1   63.54   2978599.0   \n",
              "5   66.0               9.20        66.0       0.1  553.33   2883167.0   \n",
              "6   63.0               9.42        63.0       0.1  445.89    284331.0   \n",
              "7   64.0               8.33        64.0       0.1  373.36   2729431.0   \n",
              "8   63.0               6.73        63.0       0.1  369.84  26616792.0   \n",
              "9   58.0               7.43        58.0       0.1  272.56   2589345.0   \n",
              "\n",
              "   Thinness_1-19_years  Thinness_5-9_years  Income_Composition_of_Resources  \\\n",
              "0                 17.2                17.3                             0.48   \n",
              "1                 17.5                17.5                             0.48   \n",
              "2                 17.7                17.7                             0.47   \n",
              "3                 17.9                18.0                             0.46   \n",
              "4                 18.2                18.2                             0.45   \n",
              "5                 18.4                18.4                             0.45   \n",
              "6                 18.6                18.7                             0.43   \n",
              "7                 18.8                18.9                             0.43   \n",
              "8                 19.0                19.1                             0.42   \n",
              "9                 19.2                19.3                             0.40   \n",
              "\n",
              "   Schooling  \n",
              "0       10.1  \n",
              "1       10.0  \n",
              "2        9.9  \n",
              "3        9.8  \n",
              "4        9.5  \n",
              "5        9.2  \n",
              "6        8.9  \n",
              "7        8.7  \n",
              "8        8.4  \n",
              "9        8.1  \n",
              "\n",
              "[10 rows x 22 columns]"
            ],
            "text/html": [
              "\n",
              "  <div id=\"df-b2d5cd81-7b98-4943-b45c-a6fab2143e84\">\n",
              "    <div class=\"colab-df-container\">\n",
              "      <div>\n",
              "<style scoped>\n",
              "    .dataframe tbody tr th:only-of-type {\n",
              "        vertical-align: middle;\n",
              "    }\n",
              "\n",
              "    .dataframe tbody tr th {\n",
              "        vertical-align: top;\n",
              "    }\n",
              "\n",
              "    .dataframe thead th {\n",
              "        text-align: right;\n",
              "    }\n",
              "</style>\n",
              "<table border=\"1\" class=\"dataframe\">\n",
              "  <thead>\n",
              "    <tr style=\"text-align: right;\">\n",
              "      <th></th>\n",
              "      <th>Country</th>\n",
              "      <th>Year</th>\n",
              "      <th>Status</th>\n",
              "      <th>Life_Expectancy</th>\n",
              "      <th>Adult_Mortality</th>\n",
              "      <th>Infant_Deaths</th>\n",
              "      <th>Alcohol</th>\n",
              "      <th>Percentage_Expenditure</th>\n",
              "      <th>Hepatitis_B</th>\n",
              "      <th>Measles</th>\n",
              "      <th>...</th>\n",
              "      <th>Polio</th>\n",
              "      <th>Total_Expenditure</th>\n",
              "      <th>Diphtheria</th>\n",
              "      <th>HIV/AIDS</th>\n",
              "      <th>GDP</th>\n",
              "      <th>Population</th>\n",
              "      <th>Thinness_1-19_years</th>\n",
              "      <th>Thinness_5-9_years</th>\n",
              "      <th>Income_Composition_of_Resources</th>\n",
              "      <th>Schooling</th>\n",
              "    </tr>\n",
              "  </thead>\n",
              "  <tbody>\n",
              "    <tr>\n",
              "      <th>0</th>\n",
              "      <td>Afghanistan</td>\n",
              "      <td>2015</td>\n",
              "      <td>Developing</td>\n",
              "      <td>65.0</td>\n",
              "      <td>263.0</td>\n",
              "      <td>62</td>\n",
              "      <td>0.01</td>\n",
              "      <td>71.28</td>\n",
              "      <td>65.0</td>\n",
              "      <td>1154</td>\n",
              "      <td>...</td>\n",
              "      <td>6.0</td>\n",
              "      <td>8.16</td>\n",
              "      <td>65.0</td>\n",
              "      <td>0.1</td>\n",
              "      <td>584.26</td>\n",
              "      <td>33736494.0</td>\n",
              "      <td>17.2</td>\n",
              "      <td>17.3</td>\n",
              "      <td>0.48</td>\n",
              "      <td>10.1</td>\n",
              "    </tr>\n",
              "    <tr>\n",
              "      <th>1</th>\n",
              "      <td>Afghanistan</td>\n",
              "      <td>2014</td>\n",
              "      <td>Developing</td>\n",
              "      <td>59.9</td>\n",
              "      <td>271.0</td>\n",
              "      <td>64</td>\n",
              "      <td>0.01</td>\n",
              "      <td>73.52</td>\n",
              "      <td>62.0</td>\n",
              "      <td>492</td>\n",
              "      <td>...</td>\n",
              "      <td>58.0</td>\n",
              "      <td>8.18</td>\n",
              "      <td>62.0</td>\n",
              "      <td>0.1</td>\n",
              "      <td>612.70</td>\n",
              "      <td>327582.0</td>\n",
              "      <td>17.5</td>\n",
              "      <td>17.5</td>\n",
              "      <td>0.48</td>\n",
              "      <td>10.0</td>\n",
              "    </tr>\n",
              "    <tr>\n",
              "      <th>2</th>\n",
              "      <td>Afghanistan</td>\n",
              "      <td>2013</td>\n",
              "      <td>Developing</td>\n",
              "      <td>59.9</td>\n",
              "      <td>268.0</td>\n",
              "      <td>66</td>\n",
              "      <td>0.01</td>\n",
              "      <td>73.22</td>\n",
              "      <td>64.0</td>\n",
              "      <td>430</td>\n",
              "      <td>...</td>\n",
              "      <td>62.0</td>\n",
              "      <td>8.13</td>\n",
              "      <td>64.0</td>\n",
              "      <td>0.1</td>\n",
              "      <td>631.74</td>\n",
              "      <td>31731688.0</td>\n",
              "      <td>17.7</td>\n",
              "      <td>17.7</td>\n",
              "      <td>0.47</td>\n",
              "      <td>9.9</td>\n",
              "    </tr>\n",
              "    <tr>\n",
              "      <th>3</th>\n",
              "      <td>Afghanistan</td>\n",
              "      <td>2012</td>\n",
              "      <td>Developing</td>\n",
              "      <td>59.5</td>\n",
              "      <td>272.0</td>\n",
              "      <td>69</td>\n",
              "      <td>0.01</td>\n",
              "      <td>78.18</td>\n",
              "      <td>67.0</td>\n",
              "      <td>2787</td>\n",
              "      <td>...</td>\n",
              "      <td>67.0</td>\n",
              "      <td>8.52</td>\n",
              "      <td>67.0</td>\n",
              "      <td>0.1</td>\n",
              "      <td>669.96</td>\n",
              "      <td>3696958.0</td>\n",
              "      <td>17.9</td>\n",
              "      <td>18.0</td>\n",
              "      <td>0.46</td>\n",
              "      <td>9.8</td>\n",
              "    </tr>\n",
              "    <tr>\n",
              "      <th>4</th>\n",
              "      <td>Afghanistan</td>\n",
              "      <td>2011</td>\n",
              "      <td>Developing</td>\n",
              "      <td>59.2</td>\n",
              "      <td>275.0</td>\n",
              "      <td>71</td>\n",
              "      <td>0.01</td>\n",
              "      <td>7.10</td>\n",
              "      <td>68.0</td>\n",
              "      <td>3013</td>\n",
              "      <td>...</td>\n",
              "      <td>68.0</td>\n",
              "      <td>7.87</td>\n",
              "      <td>68.0</td>\n",
              "      <td>0.1</td>\n",
              "      <td>63.54</td>\n",
              "      <td>2978599.0</td>\n",
              "      <td>18.2</td>\n",
              "      <td>18.2</td>\n",
              "      <td>0.45</td>\n",
              "      <td>9.5</td>\n",
              "    </tr>\n",
              "    <tr>\n",
              "      <th>5</th>\n",
              "      <td>Afghanistan</td>\n",
              "      <td>2010</td>\n",
              "      <td>Developing</td>\n",
              "      <td>58.8</td>\n",
              "      <td>279.0</td>\n",
              "      <td>74</td>\n",
              "      <td>0.01</td>\n",
              "      <td>79.68</td>\n",
              "      <td>66.0</td>\n",
              "      <td>1989</td>\n",
              "      <td>...</td>\n",
              "      <td>66.0</td>\n",
              "      <td>9.20</td>\n",
              "      <td>66.0</td>\n",
              "      <td>0.1</td>\n",
              "      <td>553.33</td>\n",
              "      <td>2883167.0</td>\n",
              "      <td>18.4</td>\n",
              "      <td>18.4</td>\n",
              "      <td>0.45</td>\n",
              "      <td>9.2</td>\n",
              "    </tr>\n",
              "    <tr>\n",
              "      <th>6</th>\n",
              "      <td>Afghanistan</td>\n",
              "      <td>2009</td>\n",
              "      <td>Developing</td>\n",
              "      <td>58.6</td>\n",
              "      <td>281.0</td>\n",
              "      <td>77</td>\n",
              "      <td>0.01</td>\n",
              "      <td>56.76</td>\n",
              "      <td>63.0</td>\n",
              "      <td>2861</td>\n",
              "      <td>...</td>\n",
              "      <td>63.0</td>\n",
              "      <td>9.42</td>\n",
              "      <td>63.0</td>\n",
              "      <td>0.1</td>\n",
              "      <td>445.89</td>\n",
              "      <td>284331.0</td>\n",
              "      <td>18.6</td>\n",
              "      <td>18.7</td>\n",
              "      <td>0.43</td>\n",
              "      <td>8.9</td>\n",
              "    </tr>\n",
              "    <tr>\n",
              "      <th>7</th>\n",
              "      <td>Afghanistan</td>\n",
              "      <td>2008</td>\n",
              "      <td>Developing</td>\n",
              "      <td>58.1</td>\n",
              "      <td>287.0</td>\n",
              "      <td>80</td>\n",
              "      <td>0.03</td>\n",
              "      <td>25.87</td>\n",
              "      <td>64.0</td>\n",
              "      <td>1599</td>\n",
              "      <td>...</td>\n",
              "      <td>64.0</td>\n",
              "      <td>8.33</td>\n",
              "      <td>64.0</td>\n",
              "      <td>0.1</td>\n",
              "      <td>373.36</td>\n",
              "      <td>2729431.0</td>\n",
              "      <td>18.8</td>\n",
              "      <td>18.9</td>\n",
              "      <td>0.43</td>\n",
              "      <td>8.7</td>\n",
              "    </tr>\n",
              "    <tr>\n",
              "      <th>8</th>\n",
              "      <td>Afghanistan</td>\n",
              "      <td>2007</td>\n",
              "      <td>Developing</td>\n",
              "      <td>57.5</td>\n",
              "      <td>295.0</td>\n",
              "      <td>82</td>\n",
              "      <td>0.02</td>\n",
              "      <td>10.91</td>\n",
              "      <td>63.0</td>\n",
              "      <td>1141</td>\n",
              "      <td>...</td>\n",
              "      <td>63.0</td>\n",
              "      <td>6.73</td>\n",
              "      <td>63.0</td>\n",
              "      <td>0.1</td>\n",
              "      <td>369.84</td>\n",
              "      <td>26616792.0</td>\n",
              "      <td>19.0</td>\n",
              "      <td>19.1</td>\n",
              "      <td>0.42</td>\n",
              "      <td>8.4</td>\n",
              "    </tr>\n",
              "    <tr>\n",
              "      <th>9</th>\n",
              "      <td>Afghanistan</td>\n",
              "      <td>2006</td>\n",
              "      <td>Developing</td>\n",
              "      <td>57.3</td>\n",
              "      <td>295.0</td>\n",
              "      <td>84</td>\n",
              "      <td>0.03</td>\n",
              "      <td>17.17</td>\n",
              "      <td>64.0</td>\n",
              "      <td>1990</td>\n",
              "      <td>...</td>\n",
              "      <td>58.0</td>\n",
              "      <td>7.43</td>\n",
              "      <td>58.0</td>\n",
              "      <td>0.1</td>\n",
              "      <td>272.56</td>\n",
              "      <td>2589345.0</td>\n",
              "      <td>19.2</td>\n",
              "      <td>19.3</td>\n",
              "      <td>0.40</td>\n",
              "      <td>8.1</td>\n",
              "    </tr>\n",
              "  </tbody>\n",
              "</table>\n",
              "<p>10 rows × 22 columns</p>\n",
              "</div>\n",
              "      <button class=\"colab-df-convert\" onclick=\"convertToInteractive('df-b2d5cd81-7b98-4943-b45c-a6fab2143e84')\"\n",
              "              title=\"Convert this dataframe to an interactive table.\"\n",
              "              style=\"display:none;\">\n",
              "        \n",
              "  <svg xmlns=\"http://www.w3.org/2000/svg\" height=\"24px\"viewBox=\"0 0 24 24\"\n",
              "       width=\"24px\">\n",
              "    <path d=\"M0 0h24v24H0V0z\" fill=\"none\"/>\n",
              "    <path d=\"M18.56 5.44l.94 2.06.94-2.06 2.06-.94-2.06-.94-.94-2.06-.94 2.06-2.06.94zm-11 1L8.5 8.5l.94-2.06 2.06-.94-2.06-.94L8.5 2.5l-.94 2.06-2.06.94zm10 10l.94 2.06.94-2.06 2.06-.94-2.06-.94-.94-2.06-.94 2.06-2.06.94z\"/><path d=\"M17.41 7.96l-1.37-1.37c-.4-.4-.92-.59-1.43-.59-.52 0-1.04.2-1.43.59L10.3 9.45l-7.72 7.72c-.78.78-.78 2.05 0 2.83L4 21.41c.39.39.9.59 1.41.59.51 0 1.02-.2 1.41-.59l7.78-7.78 2.81-2.81c.8-.78.8-2.07 0-2.86zM5.41 20L4 18.59l7.72-7.72 1.47 1.35L5.41 20z\"/>\n",
              "  </svg>\n",
              "      </button>\n",
              "      \n",
              "  <style>\n",
              "    .colab-df-container {\n",
              "      display:flex;\n",
              "      flex-wrap:wrap;\n",
              "      gap: 12px;\n",
              "    }\n",
              "\n",
              "    .colab-df-convert {\n",
              "      background-color: #E8F0FE;\n",
              "      border: none;\n",
              "      border-radius: 50%;\n",
              "      cursor: pointer;\n",
              "      display: none;\n",
              "      fill: #1967D2;\n",
              "      height: 32px;\n",
              "      padding: 0 0 0 0;\n",
              "      width: 32px;\n",
              "    }\n",
              "\n",
              "    .colab-df-convert:hover {\n",
              "      background-color: #E2EBFA;\n",
              "      box-shadow: 0px 1px 2px rgba(60, 64, 67, 0.3), 0px 1px 3px 1px rgba(60, 64, 67, 0.15);\n",
              "      fill: #174EA6;\n",
              "    }\n",
              "\n",
              "    [theme=dark] .colab-df-convert {\n",
              "      background-color: #3B4455;\n",
              "      fill: #D2E3FC;\n",
              "    }\n",
              "\n",
              "    [theme=dark] .colab-df-convert:hover {\n",
              "      background-color: #434B5C;\n",
              "      box-shadow: 0px 1px 3px 1px rgba(0, 0, 0, 0.15);\n",
              "      filter: drop-shadow(0px 1px 2px rgba(0, 0, 0, 0.3));\n",
              "      fill: #FFFFFF;\n",
              "    }\n",
              "  </style>\n",
              "\n",
              "      <script>\n",
              "        const buttonEl =\n",
              "          document.querySelector('#df-b2d5cd81-7b98-4943-b45c-a6fab2143e84 button.colab-df-convert');\n",
              "        buttonEl.style.display =\n",
              "          google.colab.kernel.accessAllowed ? 'block' : 'none';\n",
              "\n",
              "        async function convertToInteractive(key) {\n",
              "          const element = document.querySelector('#df-b2d5cd81-7b98-4943-b45c-a6fab2143e84');\n",
              "          const dataTable =\n",
              "            await google.colab.kernel.invokeFunction('convertToInteractive',\n",
              "                                                     [key], {});\n",
              "          if (!dataTable) return;\n",
              "\n",
              "          const docLinkHtml = 'Like what you see? Visit the ' +\n",
              "            '<a target=\"_blank\" href=https://colab.research.google.com/notebooks/data_table.ipynb>data table notebook</a>'\n",
              "            + ' to learn more about interactive tables.';\n",
              "          element.innerHTML = '';\n",
              "          dataTable['output_type'] = 'display_data';\n",
              "          await google.colab.output.renderOutput(dataTable, element);\n",
              "          const docLink = document.createElement('div');\n",
              "          docLink.innerHTML = docLinkHtml;\n",
              "          element.appendChild(docLink);\n",
              "        }\n",
              "      </script>\n",
              "    </div>\n",
              "  </div>\n",
              "  "
            ]
          },
          "metadata": {},
          "execution_count": 1057
        }
      ]
    },
    {
      "cell_type": "markdown",
      "source": [
        "Elimino strings"
      ],
      "metadata": {
        "id": "Djl6m5Decgzl"
      }
    },
    {
      "cell_type": "code",
      "source": [
        "wle = df.drop([\"Country\",\t\"Status\"], axis=1)"
      ],
      "metadata": {
        "id": "eKbW2ap5cUTf"
      },
      "execution_count": 1058,
      "outputs": []
    },
    {
      "cell_type": "markdown",
      "source": [
        "# **A. ANÁLISIS CON VALORES NULOS ELIMINADOS**"
      ],
      "metadata": {
        "id": "hLfytGPpWe8O"
      }
    },
    {
      "cell_type": "markdown",
      "source": [
        "Veo la dimensión del dataset.shape"
      ],
      "metadata": {
        "id": "iEQQWB5vTKX0"
      }
    },
    {
      "cell_type": "code",
      "source": [
        "wle.shape"
      ],
      "metadata": {
        "colab": {
          "base_uri": "https://localhost:8080/"
        },
        "id": "B0w6QWvXTMll",
        "outputId": "d2d25355-860e-4f55-99d1-258b403a09c9"
      },
      "execution_count": 1059,
      "outputs": [
        {
          "output_type": "execute_result",
          "data": {
            "text/plain": [
              "(2938, 20)"
            ]
          },
          "metadata": {},
          "execution_count": 1059
        }
      ]
    },
    {
      "cell_type": "markdown",
      "source": [
        "Sumo los valores nulos de cada columna antes de eliminar los nulos"
      ],
      "metadata": {
        "id": "4PU4iFTYSv8X"
      }
    },
    {
      "cell_type": "code",
      "source": [
        "wle.isnull().sum()"
      ],
      "metadata": {
        "colab": {
          "base_uri": "https://localhost:8080/"
        },
        "id": "UL-IMexKSSNS",
        "outputId": "6210b49d-2bdb-4d9b-bf01-e62f5ef2f659"
      },
      "execution_count": 1060,
      "outputs": [
        {
          "output_type": "execute_result",
          "data": {
            "text/plain": [
              "Year                                 0\n",
              "Life_Expectancy                     10\n",
              "Adult_Mortality                     10\n",
              "Infant_Deaths                        0\n",
              "Alcohol                            194\n",
              "Percentage_Expenditure               0\n",
              "Hepatitis_B                        553\n",
              "Measles                              0\n",
              "BMI                                 34\n",
              "Under_Five_Deaths                    0\n",
              "Polio                               19\n",
              "Total_Expenditure                  226\n",
              "Diphtheria                          19\n",
              "HIV/AIDS                             0\n",
              "GDP                                448\n",
              "Population                         652\n",
              "Thinness_1-19_years                 34\n",
              "Thinness_5-9_years                  34\n",
              "Income_Composition_of_Resources    167\n",
              "Schooling                          163\n",
              "dtype: int64"
            ]
          },
          "metadata": {},
          "execution_count": 1060
        }
      ]
    },
    {
      "cell_type": "markdown",
      "source": [
        "**ELIMINO LOS VALORES NULOS**"
      ],
      "metadata": {
        "id": "0ia0NfNJSz6v"
      }
    },
    {
      "cell_type": "markdown",
      "source": [
        "**Creo una variable para eliminar los nulos y no eliminarlos de todo el dataset para poder utilizar los nulos de la variable principal (wle) en el punto B**"
      ],
      "metadata": {
        "id": "n18TitIxoGRN"
      }
    },
    {
      "cell_type": "code",
      "source": [
        "wle_notna = wle.dropna()"
      ],
      "metadata": {
        "id": "VsbUrt4TUTxS"
      },
      "execution_count": 1061,
      "outputs": []
    },
    {
      "cell_type": "markdown",
      "source": [
        "Veo la dimensión del dataset.shape con los valores nulos eliminados"
      ],
      "metadata": {
        "id": "iCCaYVlETRE1"
      }
    },
    {
      "cell_type": "code",
      "source": [
        "wle_notna.shape"
      ],
      "metadata": {
        "colab": {
          "base_uri": "https://localhost:8080/"
        },
        "id": "eScTlObNTRLk",
        "outputId": "ce5a943f-8a89-43ad-b981-3b304931313b"
      },
      "execution_count": 1062,
      "outputs": [
        {
          "output_type": "execute_result",
          "data": {
            "text/plain": [
              "(1649, 20)"
            ]
          },
          "metadata": {},
          "execution_count": 1062
        }
      ]
    },
    {
      "cell_type": "markdown",
      "source": [
        "Compruebo que se hayan eliminado"
      ],
      "metadata": {
        "id": "_cCpQOdrS7oJ"
      }
    },
    {
      "cell_type": "code",
      "source": [
        "wle_notna.isnull().sum()"
      ],
      "metadata": {
        "colab": {
          "base_uri": "https://localhost:8080/"
        },
        "id": "Xcocb1LuS8Ki",
        "outputId": "17a3456c-4068-4bda-ad6a-db357c6672aa"
      },
      "execution_count": 1063,
      "outputs": [
        {
          "output_type": "execute_result",
          "data": {
            "text/plain": [
              "Year                               0\n",
              "Life_Expectancy                    0\n",
              "Adult_Mortality                    0\n",
              "Infant_Deaths                      0\n",
              "Alcohol                            0\n",
              "Percentage_Expenditure             0\n",
              "Hepatitis_B                        0\n",
              "Measles                            0\n",
              "BMI                                0\n",
              "Under_Five_Deaths                  0\n",
              "Polio                              0\n",
              "Total_Expenditure                  0\n",
              "Diphtheria                         0\n",
              "HIV/AIDS                           0\n",
              "GDP                                0\n",
              "Population                         0\n",
              "Thinness_1-19_years                0\n",
              "Thinness_5-9_years                 0\n",
              "Income_Composition_of_Resources    0\n",
              "Schooling                          0\n",
              "dtype: int64"
            ]
          },
          "metadata": {},
          "execution_count": 1063
        }
      ]
    },
    {
      "cell_type": "markdown",
      "source": [
        "Con el describe se puede ver un análisis estadístico rápido de las variables"
      ],
      "metadata": {
        "id": "llYGzRvQocst"
      }
    },
    {
      "cell_type": "code",
      "source": [
        "round(wle_notna.describe(), 2)"
      ],
      "metadata": {
        "colab": {
          "base_uri": "https://localhost:8080/",
          "height": 301
        },
        "id": "a0B3v0vzofis",
        "outputId": "29917cd8-1d6a-484e-e351-8ee1feaa8e1b"
      },
      "execution_count": 1064,
      "outputs": [
        {
          "output_type": "execute_result",
          "data": {
            "text/plain": [
              "          Year  Life_Expectancy  Adult_Mortality  Infant_Deaths  Alcohol  \\\n",
              "count  1649.00           1649.0          1649.00        1649.00  1649.00   \n",
              "mean   2007.84             69.3           168.22          32.55     4.53   \n",
              "std       4.09              8.8           125.31         120.85     4.03   \n",
              "min    2000.00             44.0             1.00           0.00     0.01   \n",
              "25%    2005.00             64.4            77.00           1.00     0.81   \n",
              "50%    2008.00             71.7           148.00           3.00     3.79   \n",
              "75%    2011.00             75.0           227.00          22.00     7.34   \n",
              "max    2015.00             89.0           723.00        1600.00    17.87   \n",
              "\n",
              "       Percentage_Expenditure  Hepatitis_B    Measles      BMI  \\\n",
              "count                 1649.00      1649.00    1649.00  1649.00   \n",
              "mean                   698.97        79.22    2224.49    38.13   \n",
              "std                   1759.23        25.60   10085.80    19.75   \n",
              "min                      0.00         2.00       0.00     2.00   \n",
              "25%                     37.44        74.00       0.00    19.50   \n",
              "50%                    145.10        89.00      15.00    43.70   \n",
              "75%                    509.39        96.00     373.00    55.80   \n",
              "max                  18961.35        99.00  131441.00    77.10   \n",
              "\n",
              "       Under_Five_Deaths    Polio  Total_Expenditure  Diphtheria  HIV/AIDS  \\\n",
              "count            1649.00  1649.00            1649.00     1649.00   1649.00   \n",
              "mean               44.22    83.56               5.96       84.16      1.98   \n",
              "std               162.90    22.45               2.30       21.58      6.03   \n",
              "min                 0.00     3.00               0.74        2.00      0.10   \n",
              "25%                 1.00    81.00               4.41       82.00      0.10   \n",
              "50%                 4.00    93.00               5.84       92.00      0.10   \n",
              "75%                29.00    97.00               7.47       97.00      0.70   \n",
              "max              2100.00    99.00              14.39       99.00     50.60   \n",
              "\n",
              "             GDP    Population  Thinness_1-19_years  Thinness_5-9_years  \\\n",
              "count    1649.00  1.649000e+03              1649.00             1649.00   \n",
              "mean     5566.03  1.465363e+07                 4.85                4.91   \n",
              "std     11475.90  7.046039e+07                 4.60                4.65   \n",
              "min         1.68  3.400000e+01                 0.10                0.10   \n",
              "25%       462.15  1.918970e+05                 1.60                1.70   \n",
              "50%      1592.57  1.419631e+06                 3.00                3.20   \n",
              "75%      4718.51  7.658972e+06                 7.10                7.10   \n",
              "max    119172.74  1.293859e+09                27.20               28.20   \n",
              "\n",
              "       Income_Composition_of_Resources  Schooling  \n",
              "count                          1649.00    1649.00  \n",
              "mean                              0.63      12.12  \n",
              "std                               0.18       2.80  \n",
              "min                               0.00       4.20  \n",
              "25%                               0.51      10.30  \n",
              "50%                               0.67      12.30  \n",
              "75%                               0.75      14.00  \n",
              "max                               0.94      20.70  "
            ],
            "text/html": [
              "\n",
              "  <div id=\"df-3973f146-8b87-4600-bfd8-5e74e93c7f90\">\n",
              "    <div class=\"colab-df-container\">\n",
              "      <div>\n",
              "<style scoped>\n",
              "    .dataframe tbody tr th:only-of-type {\n",
              "        vertical-align: middle;\n",
              "    }\n",
              "\n",
              "    .dataframe tbody tr th {\n",
              "        vertical-align: top;\n",
              "    }\n",
              "\n",
              "    .dataframe thead th {\n",
              "        text-align: right;\n",
              "    }\n",
              "</style>\n",
              "<table border=\"1\" class=\"dataframe\">\n",
              "  <thead>\n",
              "    <tr style=\"text-align: right;\">\n",
              "      <th></th>\n",
              "      <th>Year</th>\n",
              "      <th>Life_Expectancy</th>\n",
              "      <th>Adult_Mortality</th>\n",
              "      <th>Infant_Deaths</th>\n",
              "      <th>Alcohol</th>\n",
              "      <th>Percentage_Expenditure</th>\n",
              "      <th>Hepatitis_B</th>\n",
              "      <th>Measles</th>\n",
              "      <th>BMI</th>\n",
              "      <th>Under_Five_Deaths</th>\n",
              "      <th>Polio</th>\n",
              "      <th>Total_Expenditure</th>\n",
              "      <th>Diphtheria</th>\n",
              "      <th>HIV/AIDS</th>\n",
              "      <th>GDP</th>\n",
              "      <th>Population</th>\n",
              "      <th>Thinness_1-19_years</th>\n",
              "      <th>Thinness_5-9_years</th>\n",
              "      <th>Income_Composition_of_Resources</th>\n",
              "      <th>Schooling</th>\n",
              "    </tr>\n",
              "  </thead>\n",
              "  <tbody>\n",
              "    <tr>\n",
              "      <th>count</th>\n",
              "      <td>1649.00</td>\n",
              "      <td>1649.0</td>\n",
              "      <td>1649.00</td>\n",
              "      <td>1649.00</td>\n",
              "      <td>1649.00</td>\n",
              "      <td>1649.00</td>\n",
              "      <td>1649.00</td>\n",
              "      <td>1649.00</td>\n",
              "      <td>1649.00</td>\n",
              "      <td>1649.00</td>\n",
              "      <td>1649.00</td>\n",
              "      <td>1649.00</td>\n",
              "      <td>1649.00</td>\n",
              "      <td>1649.00</td>\n",
              "      <td>1649.00</td>\n",
              "      <td>1.649000e+03</td>\n",
              "      <td>1649.00</td>\n",
              "      <td>1649.00</td>\n",
              "      <td>1649.00</td>\n",
              "      <td>1649.00</td>\n",
              "    </tr>\n",
              "    <tr>\n",
              "      <th>mean</th>\n",
              "      <td>2007.84</td>\n",
              "      <td>69.3</td>\n",
              "      <td>168.22</td>\n",
              "      <td>32.55</td>\n",
              "      <td>4.53</td>\n",
              "      <td>698.97</td>\n",
              "      <td>79.22</td>\n",
              "      <td>2224.49</td>\n",
              "      <td>38.13</td>\n",
              "      <td>44.22</td>\n",
              "      <td>83.56</td>\n",
              "      <td>5.96</td>\n",
              "      <td>84.16</td>\n",
              "      <td>1.98</td>\n",
              "      <td>5566.03</td>\n",
              "      <td>1.465363e+07</td>\n",
              "      <td>4.85</td>\n",
              "      <td>4.91</td>\n",
              "      <td>0.63</td>\n",
              "      <td>12.12</td>\n",
              "    </tr>\n",
              "    <tr>\n",
              "      <th>std</th>\n",
              "      <td>4.09</td>\n",
              "      <td>8.8</td>\n",
              "      <td>125.31</td>\n",
              "      <td>120.85</td>\n",
              "      <td>4.03</td>\n",
              "      <td>1759.23</td>\n",
              "      <td>25.60</td>\n",
              "      <td>10085.80</td>\n",
              "      <td>19.75</td>\n",
              "      <td>162.90</td>\n",
              "      <td>22.45</td>\n",
              "      <td>2.30</td>\n",
              "      <td>21.58</td>\n",
              "      <td>6.03</td>\n",
              "      <td>11475.90</td>\n",
              "      <td>7.046039e+07</td>\n",
              "      <td>4.60</td>\n",
              "      <td>4.65</td>\n",
              "      <td>0.18</td>\n",
              "      <td>2.80</td>\n",
              "    </tr>\n",
              "    <tr>\n",
              "      <th>min</th>\n",
              "      <td>2000.00</td>\n",
              "      <td>44.0</td>\n",
              "      <td>1.00</td>\n",
              "      <td>0.00</td>\n",
              "      <td>0.01</td>\n",
              "      <td>0.00</td>\n",
              "      <td>2.00</td>\n",
              "      <td>0.00</td>\n",
              "      <td>2.00</td>\n",
              "      <td>0.00</td>\n",
              "      <td>3.00</td>\n",
              "      <td>0.74</td>\n",
              "      <td>2.00</td>\n",
              "      <td>0.10</td>\n",
              "      <td>1.68</td>\n",
              "      <td>3.400000e+01</td>\n",
              "      <td>0.10</td>\n",
              "      <td>0.10</td>\n",
              "      <td>0.00</td>\n",
              "      <td>4.20</td>\n",
              "    </tr>\n",
              "    <tr>\n",
              "      <th>25%</th>\n",
              "      <td>2005.00</td>\n",
              "      <td>64.4</td>\n",
              "      <td>77.00</td>\n",
              "      <td>1.00</td>\n",
              "      <td>0.81</td>\n",
              "      <td>37.44</td>\n",
              "      <td>74.00</td>\n",
              "      <td>0.00</td>\n",
              "      <td>19.50</td>\n",
              "      <td>1.00</td>\n",
              "      <td>81.00</td>\n",
              "      <td>4.41</td>\n",
              "      <td>82.00</td>\n",
              "      <td>0.10</td>\n",
              "      <td>462.15</td>\n",
              "      <td>1.918970e+05</td>\n",
              "      <td>1.60</td>\n",
              "      <td>1.70</td>\n",
              "      <td>0.51</td>\n",
              "      <td>10.30</td>\n",
              "    </tr>\n",
              "    <tr>\n",
              "      <th>50%</th>\n",
              "      <td>2008.00</td>\n",
              "      <td>71.7</td>\n",
              "      <td>148.00</td>\n",
              "      <td>3.00</td>\n",
              "      <td>3.79</td>\n",
              "      <td>145.10</td>\n",
              "      <td>89.00</td>\n",
              "      <td>15.00</td>\n",
              "      <td>43.70</td>\n",
              "      <td>4.00</td>\n",
              "      <td>93.00</td>\n",
              "      <td>5.84</td>\n",
              "      <td>92.00</td>\n",
              "      <td>0.10</td>\n",
              "      <td>1592.57</td>\n",
              "      <td>1.419631e+06</td>\n",
              "      <td>3.00</td>\n",
              "      <td>3.20</td>\n",
              "      <td>0.67</td>\n",
              "      <td>12.30</td>\n",
              "    </tr>\n",
              "    <tr>\n",
              "      <th>75%</th>\n",
              "      <td>2011.00</td>\n",
              "      <td>75.0</td>\n",
              "      <td>227.00</td>\n",
              "      <td>22.00</td>\n",
              "      <td>7.34</td>\n",
              "      <td>509.39</td>\n",
              "      <td>96.00</td>\n",
              "      <td>373.00</td>\n",
              "      <td>55.80</td>\n",
              "      <td>29.00</td>\n",
              "      <td>97.00</td>\n",
              "      <td>7.47</td>\n",
              "      <td>97.00</td>\n",
              "      <td>0.70</td>\n",
              "      <td>4718.51</td>\n",
              "      <td>7.658972e+06</td>\n",
              "      <td>7.10</td>\n",
              "      <td>7.10</td>\n",
              "      <td>0.75</td>\n",
              "      <td>14.00</td>\n",
              "    </tr>\n",
              "    <tr>\n",
              "      <th>max</th>\n",
              "      <td>2015.00</td>\n",
              "      <td>89.0</td>\n",
              "      <td>723.00</td>\n",
              "      <td>1600.00</td>\n",
              "      <td>17.87</td>\n",
              "      <td>18961.35</td>\n",
              "      <td>99.00</td>\n",
              "      <td>131441.00</td>\n",
              "      <td>77.10</td>\n",
              "      <td>2100.00</td>\n",
              "      <td>99.00</td>\n",
              "      <td>14.39</td>\n",
              "      <td>99.00</td>\n",
              "      <td>50.60</td>\n",
              "      <td>119172.74</td>\n",
              "      <td>1.293859e+09</td>\n",
              "      <td>27.20</td>\n",
              "      <td>28.20</td>\n",
              "      <td>0.94</td>\n",
              "      <td>20.70</td>\n",
              "    </tr>\n",
              "  </tbody>\n",
              "</table>\n",
              "</div>\n",
              "      <button class=\"colab-df-convert\" onclick=\"convertToInteractive('df-3973f146-8b87-4600-bfd8-5e74e93c7f90')\"\n",
              "              title=\"Convert this dataframe to an interactive table.\"\n",
              "              style=\"display:none;\">\n",
              "        \n",
              "  <svg xmlns=\"http://www.w3.org/2000/svg\" height=\"24px\"viewBox=\"0 0 24 24\"\n",
              "       width=\"24px\">\n",
              "    <path d=\"M0 0h24v24H0V0z\" fill=\"none\"/>\n",
              "    <path d=\"M18.56 5.44l.94 2.06.94-2.06 2.06-.94-2.06-.94-.94-2.06-.94 2.06-2.06.94zm-11 1L8.5 8.5l.94-2.06 2.06-.94-2.06-.94L8.5 2.5l-.94 2.06-2.06.94zm10 10l.94 2.06.94-2.06 2.06-.94-2.06-.94-.94-2.06-.94 2.06-2.06.94z\"/><path d=\"M17.41 7.96l-1.37-1.37c-.4-.4-.92-.59-1.43-.59-.52 0-1.04.2-1.43.59L10.3 9.45l-7.72 7.72c-.78.78-.78 2.05 0 2.83L4 21.41c.39.39.9.59 1.41.59.51 0 1.02-.2 1.41-.59l7.78-7.78 2.81-2.81c.8-.78.8-2.07 0-2.86zM5.41 20L4 18.59l7.72-7.72 1.47 1.35L5.41 20z\"/>\n",
              "  </svg>\n",
              "      </button>\n",
              "      \n",
              "  <style>\n",
              "    .colab-df-container {\n",
              "      display:flex;\n",
              "      flex-wrap:wrap;\n",
              "      gap: 12px;\n",
              "    }\n",
              "\n",
              "    .colab-df-convert {\n",
              "      background-color: #E8F0FE;\n",
              "      border: none;\n",
              "      border-radius: 50%;\n",
              "      cursor: pointer;\n",
              "      display: none;\n",
              "      fill: #1967D2;\n",
              "      height: 32px;\n",
              "      padding: 0 0 0 0;\n",
              "      width: 32px;\n",
              "    }\n",
              "\n",
              "    .colab-df-convert:hover {\n",
              "      background-color: #E2EBFA;\n",
              "      box-shadow: 0px 1px 2px rgba(60, 64, 67, 0.3), 0px 1px 3px 1px rgba(60, 64, 67, 0.15);\n",
              "      fill: #174EA6;\n",
              "    }\n",
              "\n",
              "    [theme=dark] .colab-df-convert {\n",
              "      background-color: #3B4455;\n",
              "      fill: #D2E3FC;\n",
              "    }\n",
              "\n",
              "    [theme=dark] .colab-df-convert:hover {\n",
              "      background-color: #434B5C;\n",
              "      box-shadow: 0px 1px 3px 1px rgba(0, 0, 0, 0.15);\n",
              "      filter: drop-shadow(0px 1px 2px rgba(0, 0, 0, 0.3));\n",
              "      fill: #FFFFFF;\n",
              "    }\n",
              "  </style>\n",
              "\n",
              "      <script>\n",
              "        const buttonEl =\n",
              "          document.querySelector('#df-3973f146-8b87-4600-bfd8-5e74e93c7f90 button.colab-df-convert');\n",
              "        buttonEl.style.display =\n",
              "          google.colab.kernel.accessAllowed ? 'block' : 'none';\n",
              "\n",
              "        async function convertToInteractive(key) {\n",
              "          const element = document.querySelector('#df-3973f146-8b87-4600-bfd8-5e74e93c7f90');\n",
              "          const dataTable =\n",
              "            await google.colab.kernel.invokeFunction('convertToInteractive',\n",
              "                                                     [key], {});\n",
              "          if (!dataTable) return;\n",
              "\n",
              "          const docLinkHtml = 'Like what you see? Visit the ' +\n",
              "            '<a target=\"_blank\" href=https://colab.research.google.com/notebooks/data_table.ipynb>data table notebook</a>'\n",
              "            + ' to learn more about interactive tables.';\n",
              "          element.innerHTML = '';\n",
              "          dataTable['output_type'] = 'display_data';\n",
              "          await google.colab.output.renderOutput(dataTable, element);\n",
              "          const docLink = document.createElement('div');\n",
              "          docLink.innerHTML = docLinkHtml;\n",
              "          element.appendChild(docLink);\n",
              "        }\n",
              "      </script>\n",
              "    </div>\n",
              "  </div>\n",
              "  "
            ]
          },
          "metadata": {},
          "execution_count": 1064
        }
      ]
    },
    {
      "cell_type": "markdown",
      "source": [
        "HISTOGRAMA"
      ],
      "metadata": {
        "id": "HLAyVnPIpCLw"
      }
    },
    {
      "cell_type": "code",
      "source": [
        "wle_notna.hist(figsize=(30, 15));"
      ],
      "metadata": {
        "colab": {
          "base_uri": "https://localhost:8080/",
          "height": 879
        },
        "id": "AreD71Qtozy1",
        "outputId": "635debb6-66c4-4a6b-aa80-505a3eeeb5fd"
      },
      "execution_count": 1065,
      "outputs": [
        {
          "output_type": "display_data",
          "data": {
            "text/plain": [
              "<Figure size 2160x1080 with 20 Axes>"
            ],
            "image/png": "[encoded data removed]"
          },
          "metadata": {
            "needs_background": "light"
          }
        }
      ]
    },
    {
      "cell_type": "markdown",
      "source": [
        "MATRIZ DE CORRELACIÓN"
      ],
      "metadata": {
        "id": "zPnggK1epE08"
      }
    },
    {
      "cell_type": "code",
      "source": [
        "plt.figure(figsize=(30,15))\n",
        "plt.title(\"MATRIZ DE CORRELACIÓN\");\n",
        "ax = sns.heatmap(wle_notna.corr(),annot=True,cmap='Blues')\n",
        "ax.set_xticklabels(ax.get_xticklabels(), rotation=35)\n",
        "ax.set_yticklabels(ax.get_yticklabels(), rotation=0)     \n",
        "plt.show()"
      ],
      "metadata": {
        "colab": {
          "base_uri": "https://localhost:8080/",
          "height": 978
        },
        "id": "jMws3Tz6pKyN",
        "outputId": "f4adec9f-26e4-4fd0-a29a-6f5be929da97"
      },
      "execution_count": 1066,
      "outputs": [
        {
          "output_type": "display_data",
          "data": {
            "text/plain": [
              "<Figure size 2160x1080 with 2 Axes>"
            ],
            "image/png": "[encoded data removed]"
          },
          "metadata": {
            "needs_background": "light"
          }
        }
      ]
    },
    {
      "cell_type": "markdown",
      "source": [
        "**OBSERVACIONES**:\n",
        "\n",
        "Cuanto más oscuro es el color azul indica que la correlacion positiva será mayor.\n",
        "\n",
        "Caso contrario, a medida que es más claro, la correlación negativa será mayor.\n",
        "\n",
        "Dentro de las variables que se encuentran más correlacionadas positivamente se destacan:\n",
        "*   Under_Five_Deaths con Percentage_Expenditure.\n",
        "*   Percentage_Expenditure con GDP.\n",
        "*   Thinness_1-19_years con Thinness_5-9_years.\n",
        "*   Income_Composition_of_Resources\tcon Schooling.\n",
        "\n",
        "Por otro las que más se correlacionan de forma negativa son las siguientes:\n",
        "*   Life_Expectancy\tcon Adult_Mortality.\n",
        "*   Life_Expectancy con HIV/AIDS.\n",
        "*   HIV/AIDS\tcon Year.\n",
        "*   Thinness_1-19_years con BMI.\n",
        "*   Thinness_5-9_years con BMI."
      ],
      "metadata": {
        "id": "R4Ofm1iopSCe"
      }
    },
    {
      "cell_type": "markdown",
      "source": [
        "# **B. REEMPLAZAR VALORES NULOS**"
      ],
      "metadata": {
        "id": "0SgDA6WsWsvd"
      }
    },
    {
      "cell_type": "markdown",
      "source": [
        "**DEFINO LAS VARIABLES DE LOS DATASETS PARA NORMALIZARLOS**\n",
        "\n",
        "Elimino también del modelo dos columnas con strings y una con dates para normalizar el modelo"
      ],
      "metadata": {
        "id": "dPWegWYLuRwA"
      }
    },
    {
      "cell_type": "code",
      "source": [
        "x = wle_notna.drop(\"Population\", axis=1)\n",
        "y = wle_notna[\"Population\"]\n",
        "n, d = x.shape\n",
        "print(\"El dataset tiene %d registros, de %d dimensiones\" %(n, d))"
      ],
      "metadata": {
        "colab": {
          "base_uri": "https://localhost:8080/"
        },
        "id": "ZNhenNs9uUDH",
        "outputId": "810a59e4-e495-4b31-c6c0-a6cb13bccfbe"
      },
      "execution_count": 1067,
      "outputs": [
        {
          "output_type": "stream",
          "name": "stdout",
          "text": [
            "El dataset tiene 1649 registros, de 19 dimensiones\n"
          ]
        }
      ]
    },
    {
      "cell_type": "markdown",
      "source": [
        "**NORMALIZO**"
      ],
      "metadata": {
        "id": "pMHtebZkpo6m"
      }
    },
    {
      "cell_type": "code",
      "source": [
        "scaler = StandardScaler()\n",
        "scaler.fit(x)\n",
        "x = scaler.transform(x)"
      ],
      "metadata": {
        "id": "Nef7JeKbrHVF"
      },
      "execution_count": 1068,
      "outputs": []
    },
    {
      "cell_type": "markdown",
      "source": [
        "**ENTRENO EL MODELO DE REGRESIÓN LINEAL**"
      ],
      "metadata": {
        "id": "RMl1WweFwU2H"
      }
    },
    {
      "cell_type": "code",
      "source": [
        "lr.fit(x, y)\n",
        "\n",
        "x_predict = wle.drop(\"Population\", axis=1).dropna()\n",
        "\n",
        "scaler = StandardScaler()\n",
        "scaler.fit(x_predict)\n",
        "x_predictn = scaler.transform(x_predict)\n",
        "\n",
        "y_predict = lr.predict(x_predict)\n",
        "y_predict"
      ],
      "metadata": {
        "colab": {
          "base_uri": "https://localhost:8080/"
        },
        "id": "Tt3kYWuMwXS9",
        "outputId": "95d27a89-a184-4500-ad26-89f2eeafbc42"
      },
      "execution_count": 1069,
      "outputs": [
        {
          "output_type": "stream",
          "name": "stderr",
          "text": [
            "/usr/local/lib/python3.7/dist-packages/sklearn/base.py:444: UserWarning: X has feature names, but LinearRegression was fitted without feature names\n",
            "  f\"X has feature names, but {self.__class__.__name__} was fitted without\"\n"
          ]
        },
        {
          "output_type": "execute_result",
          "data": {
            "text/plain": [
              "array([-6.68820110e+09, -2.91447496e+09, -2.64685286e+09, ...,\n",
              "       -2.00101483e+09, -3.18509257e+09, -8.92576171e+09])"
            ]
          },
          "metadata": {},
          "execution_count": 1069
        }
      ]
    },
    {
      "cell_type": "code",
      "source": [
        "w = lr.coef_\n",
        "b = lr.intercept_\n",
        "d = x.shape[1]\n",
        "\n",
        "plt.figure(figsize=(40,15));\n",
        "plt.bar(range(d+1), np.concatenate((w,[b])));\n",
        "labels = wle_notna.columns.values; labels[-1]= 'Bias'\n",
        "plt.xticks(range(w.shape[0]+1), labels, rotation= 0)\n",
        "plt.grid()\n",
        "plt.title(\"PLOT DE COEFICIENTES\");"
      ],
      "metadata": {
        "colab": {
          "base_uri": "https://localhost:8080/",
          "height": 880
        },
        "id": "5ZuqZCCYwnbT",
        "outputId": "92b6773f-2a3c-4e73-a8a0-c9f4047aed7e"
      },
      "execution_count": 1070,
      "outputs": [
        {
          "output_type": "display_data",
          "data": {
            "text/plain": [
              "<Figure size 2880x1080 with 1 Axes>"
            ],
            "image/png": "[encoded data removed]"
          },
          "metadata": {
            "needs_background": "light"
          }
        }
      ]
    },
    {
      "cell_type": "markdown",
      "source": [
        "Creo una variable nueva para limpiar todos los valores nulos (NaN) menos los de la variable a analizar (\"Population\")."
      ],
      "metadata": {
        "id": "VMzuF0LS4qnd"
      }
    },
    {
      "cell_type": "code",
      "source": [
        "df_notnan = df.drop(\"Population\",axis=1).dropna()"
      ],
      "metadata": {
        "id": "GPw5gl6g4KDp"
      },
      "execution_count": 1071,
      "outputs": []
    },
    {
      "cell_type": "markdown",
      "source": [
        "Utilizo index para obtener todas las filas predichas gracias a el modelo de regresión lineal."
      ],
      "metadata": {
        "id": "fZfkB8bx5D5V"
      }
    },
    {
      "cell_type": "code",
      "source": [
        "index = df_notnan.index\n",
        "df_act = df.loc[index,:]"
      ],
      "metadata": {
        "id": "XrUQBO9q5EE9"
      },
      "execution_count": 1072,
      "outputs": []
    },
    {
      "cell_type": "code",
      "source": [
        "print(\"La cantidad de errores en population son:\", df[\"Population\"].isnull().sum().sum())"
      ],
      "metadata": {
        "colab": {
          "base_uri": "https://localhost:8080/"
        },
        "id": "pqq3tvKJ56Nj",
        "outputId": "e8e90eb4-98a8-4ba9-a040-f131a43cd88a"
      },
      "execution_count": 1073,
      "outputs": [
        {
          "output_type": "stream",
          "name": "stdout",
          "text": [
            "La cantidad de errores en population son: 652\n"
          ]
        }
      ]
    },
    {
      "cell_type": "markdown",
      "source": [
        "El modelo sólo podrá predecir los valores perdidos de la variable \"Population\"  que no contengan valores nulos en el resto de las variables."
      ],
      "metadata": {
        "id": "U8yn9Xu85cb1"
      }
    },
    {
      "cell_type": "code",
      "source": [
        "print(\"El modelo cuenta con la capacidad de predecir sólo\", df_act.isnull().sum().sum(), \"valores nulos de Population. Es decir, se perderán\", (df['Population'].isnull().sum().sum())-(df_complete.isnull().sum().sum()), \"filas.\")"
      ],
      "metadata": {
        "colab": {
          "base_uri": "https://localhost:8080/"
        },
        "id": "MhSkcHf_5ch6",
        "outputId": "f34d249a-ba66-4bbf-d9b1-75dfcc5a836c"
      },
      "execution_count": 1074,
      "outputs": [
        {
          "output_type": "stream",
          "name": "stdout",
          "text": [
            "El modelo cuenta con la capacidad de predecir sólo 204 valores nulos de Population. Es decir, se perderán 652 filas.\n"
          ]
        }
      ]
    },
    {
      "cell_type": "markdown",
      "source": [
        "**REEMPLAZO LOS VALORES PERDIDOS POR VALORES PREDICHOS**"
      ],
      "metadata": {
        "id": "c4FI3mlC6w0b"
      }
    },
    {
      "cell_type": "markdown",
      "source": [
        "Creo la variable final, que es una copia de los valores que podré predecir con mi modelo."
      ],
      "metadata": {
        "id": "Wr6FCuRg75RR"
      }
    },
    {
      "cell_type": "code",
      "source": [
        "df_newPoplation = df_act "
      ],
      "metadata": {
        "id": "KjrstUbR6vFk"
      },
      "execution_count": 1075,
      "outputs": []
    },
    {
      "cell_type": "markdown",
      "source": [
        "Reseteo el index para recuperar valores eliminados"
      ],
      "metadata": {
        "id": "W6tDxows8GA7"
      }
    },
    {
      "cell_type": "code",
      "source": [
        "df_newPoplation.reset_index(inplace=True)"
      ],
      "metadata": {
        "id": "jr4gZvjU8FSy"
      },
      "execution_count": 1076,
      "outputs": []
    },
    {
      "cell_type": "markdown",
      "source": [
        "Creo una lista para guardar los valores."
      ],
      "metadata": {
        "id": "Tji-a40T8aPC"
      }
    },
    {
      "cell_type": "code",
      "source": [
        "values_population = []"
      ],
      "metadata": {
        "id": "aQHXfhTm8fO5"
      },
      "execution_count": 1077,
      "outputs": []
    },
    {
      "cell_type": "markdown",
      "source": [
        "Genero la variable que utilizaré como contador para mi ciclo de iteración."
      ],
      "metadata": {
        "id": "uMtUT_fP8PPz"
      }
    },
    {
      "cell_type": "code",
      "source": [
        "contador = 0 #variable para ir recorriendo los valores dentro del y_predict\n",
        "\n",
        "for value in df_act['Population']: \n",
        "    if(np.isnan(value)): \n",
        "        values_population.append(y_predict[contador]) # Si el valor del dataframe es nan entonces me quedo con el valor predecido\n",
        "    else:\n",
        "        values_population.append(value) # Si el valor no es nan entonces me quedo con el valor que ya tenia \n",
        "    contador += 1\n",
        "\n",
        "# Agrego la lista creada al dataframe \n",
        "df_newPoplation.Population = pd.Series(values_population) "
      ],
      "metadata": {
        "id": "I1Gc761W8WqD"
      },
      "execution_count": 1078,
      "outputs": []
    },
    {
      "cell_type": "markdown",
      "source": [
        "Chequeo que no queden valores perdidos."
      ],
      "metadata": {
        "id": "iI28h_Iv9B4U"
      }
    },
    {
      "cell_type": "code",
      "source": [
        "df_newPoplation.isna().sum()"
      ],
      "metadata": {
        "colab": {
          "base_uri": "https://localhost:8080/"
        },
        "id": "qxEzY8Z07a_D",
        "outputId": "f3f8d348-3f7d-4c47-ec4d-465355196de5"
      },
      "execution_count": 1079,
      "outputs": [
        {
          "output_type": "execute_result",
          "data": {
            "text/plain": [
              "index                              0\n",
              "Country                            0\n",
              "Year                               0\n",
              "Status                             0\n",
              "Life_Expectancy                    0\n",
              "Adult_Mortality                    0\n",
              "Infant_Deaths                      0\n",
              "Alcohol                            0\n",
              "Percentage_Expenditure             0\n",
              "Hepatitis_B                        0\n",
              "Measles                            0\n",
              "BMI                                0\n",
              "Under_Five_Deaths                  0\n",
              "Polio                              0\n",
              "Total_Expenditure                  0\n",
              "Diphtheria                         0\n",
              "HIV/AIDS                           0\n",
              "GDP                                0\n",
              "Population                         0\n",
              "Thinness_1-19_years                0\n",
              "Thinness_5-9_years                 0\n",
              "Income_Composition_of_Resources    0\n",
              "Schooling                          0\n",
              "dtype: int64"
            ]
          },
          "metadata": {},
          "execution_count": 1079
        }
      ]
    },
    {
      "cell_type": "code",
      "source": [
        "df_newPoplation"
      ],
      "metadata": {
        "colab": {
          "base_uri": "https://localhost:8080/",
          "height": 424
        },
        "id": "qgz6wvxV8-ka",
        "outputId": "6a3d3d97-5560-4a26-b2d7-b64b9a5a9adc"
      },
      "execution_count": 1080,
      "outputs": [
        {
          "output_type": "execute_result",
          "data": {
            "text/plain": [
              "      index      Country  Year      Status  Life_Expectancy  Adult_Mortality  \\\n",
              "0         0  Afghanistan  2015  Developing             65.0            263.0   \n",
              "1         1  Afghanistan  2014  Developing             59.9            271.0   \n",
              "2         2  Afghanistan  2013  Developing             59.9            268.0   \n",
              "3         3  Afghanistan  2012  Developing             59.5            272.0   \n",
              "4         4  Afghanistan  2011  Developing             59.2            275.0   \n",
              "...     ...          ...   ...         ...              ...              ...   \n",
              "1848   2933     Zimbabwe  2004  Developing             44.3            723.0   \n",
              "1849   2934     Zimbabwe  2003  Developing             44.5            715.0   \n",
              "1850   2935     Zimbabwe  2002  Developing             44.8             73.0   \n",
              "1851   2936     Zimbabwe  2001  Developing             45.3            686.0   \n",
              "1852   2937     Zimbabwe  2000  Developing             46.0            665.0   \n",
              "\n",
              "      Infant_Deaths  Alcohol  Percentage_Expenditure  Hepatitis_B  ...  Polio  \\\n",
              "0                62     0.01               71.279624         65.0  ...    6.0   \n",
              "1                64     0.01               73.523582         62.0  ...   58.0   \n",
              "2                66     0.01               73.219243         64.0  ...   62.0   \n",
              "3                69     0.01               78.184215         67.0  ...   67.0   \n",
              "4                71     0.01                7.097109         68.0  ...   68.0   \n",
              "...             ...      ...                     ...          ...  ...    ...   \n",
              "1848             27     4.36                0.000000         68.0  ...   67.0   \n",
              "1849             26     4.06                0.000000          7.0  ...    7.0   \n",
              "1850             25     4.43                0.000000         73.0  ...   73.0   \n",
              "1851             25     1.72                0.000000         76.0  ...   76.0   \n",
              "1852             24     1.68                0.000000         79.0  ...   78.0   \n",
              "\n",
              "      Total_Expenditure  Diphtheria  HIV/AIDS         GDP  Population  \\\n",
              "0                  8.16        65.0       0.1  584.259210  33736494.0   \n",
              "1                  8.18        62.0       0.1  612.696514    327582.0   \n",
              "2                  8.13        64.0       0.1  631.744976  31731688.0   \n",
              "3                  8.52        67.0       0.1  669.959000   3696958.0   \n",
              "4                  7.87        68.0       0.1   63.537231   2978599.0   \n",
              "...                 ...         ...       ...         ...         ...   \n",
              "1848               7.13        65.0      33.6  454.366654  12777511.0   \n",
              "1849               6.52        68.0      36.7  453.351155  12633897.0   \n",
              "1850               6.53        71.0      39.8   57.348340    125525.0   \n",
              "1851               6.16        75.0      42.1  548.587312  12366165.0   \n",
              "1852               7.10        78.0      43.5  547.358878  12222251.0   \n",
              "\n",
              "      Thinness_1-19_years  Thinness_5-9_years  \\\n",
              "0                    17.2                17.3   \n",
              "1                    17.5                17.5   \n",
              "2                    17.7                17.7   \n",
              "3                    17.9                18.0   \n",
              "4                    18.2                18.2   \n",
              "...                   ...                 ...   \n",
              "1848                  9.4                 9.4   \n",
              "1849                  9.8                 9.9   \n",
              "1850                  1.2                 1.3   \n",
              "1851                  1.6                 1.7   \n",
              "1852                 11.0                11.2   \n",
              "\n",
              "      Income_Composition_of_Resources  Schooling  \n",
              "0                               0.479       10.1  \n",
              "1                               0.476       10.0  \n",
              "2                               0.470        9.9  \n",
              "3                               0.463        9.8  \n",
              "4                               0.454        9.5  \n",
              "...                               ...        ...  \n",
              "1848                            0.407        9.2  \n",
              "1849                            0.418        9.5  \n",
              "1850                            0.427       10.0  \n",
              "1851                            0.427        9.8  \n",
              "1852                            0.434        9.8  \n",
              "\n",
              "[1853 rows x 23 columns]"
            ],
            "text/html": [
              "\n",
              "  <div id=\"df-c6b3f030-9d6d-47d0-bfad-09337a8097fd\">\n",
              "    <div class=\"colab-df-container\">\n",
              "      <div>\n",
              "<style scoped>\n",
              "    .dataframe tbody tr th:only-of-type {\n",
              "        vertical-align: middle;\n",
              "    }\n",
              "\n",
              "    .dataframe tbody tr th {\n",
              "        vertical-align: top;\n",
              "    }\n",
              "\n",
              "    .dataframe thead th {\n",
              "        text-align: right;\n",
              "    }\n",
              "</style>\n",
              "<table border=\"1\" class=\"dataframe\">\n",
              "  <thead>\n",
              "    <tr style=\"text-align: right;\">\n",
              "      <th></th>\n",
              "      <th>index</th>\n",
              "      <th>Country</th>\n",
              "      <th>Year</th>\n",
              "      <th>Status</th>\n",
              "      <th>Life_Expectancy</th>\n",
              "      <th>Adult_Mortality</th>\n",
              "      <th>Infant_Deaths</th>\n",
              "      <th>Alcohol</th>\n",
              "      <th>Percentage_Expenditure</th>\n",
              "      <th>Hepatitis_B</th>\n",
              "      <th>...</th>\n",
              "      <th>Polio</th>\n",
              "      <th>Total_Expenditure</th>\n",
              "      <th>Diphtheria</th>\n",
              "      <th>HIV/AIDS</th>\n",
              "      <th>GDP</th>\n",
              "      <th>Population</th>\n",
              "      <th>Thinness_1-19_years</th>\n",
              "      <th>Thinness_5-9_years</th>\n",
              "      <th>Income_Composition_of_Resources</th>\n",
              "      <th>Schooling</th>\n",
              "    </tr>\n",
              "  </thead>\n",
              "  <tbody>\n",
              "    <tr>\n",
              "      <th>0</th>\n",
              "      <td>0</td>\n",
              "      <td>Afghanistan</td>\n",
              "      <td>2015</td>\n",
              "      <td>Developing</td>\n",
              "      <td>65.0</td>\n",
              "      <td>263.0</td>\n",
              "      <td>62</td>\n",
              "      <td>0.01</td>\n",
              "      <td>71.279624</td>\n",
              "      <td>65.0</td>\n",
              "      <td>...</td>\n",
              "      <td>6.0</td>\n",
              "      <td>8.16</td>\n",
              "      <td>65.0</td>\n",
              "      <td>0.1</td>\n",
              "      <td>584.259210</td>\n",
              "      <td>33736494.0</td>\n",
              "      <td>17.2</td>\n",
              "      <td>17.3</td>\n",
              "      <td>0.479</td>\n",
              "      <td>10.1</td>\n",
              "    </tr>\n",
              "    <tr>\n",
              "      <th>1</th>\n",
              "      <td>1</td>\n",
              "      <td>Afghanistan</td>\n",
              "      <td>2014</td>\n",
              "      <td>Developing</td>\n",
              "      <td>59.9</td>\n",
              "      <td>271.0</td>\n",
              "      <td>64</td>\n",
              "      <td>0.01</td>\n",
              "      <td>73.523582</td>\n",
              "      <td>62.0</td>\n",
              "      <td>...</td>\n",
              "      <td>58.0</td>\n",
              "      <td>8.18</td>\n",
              "      <td>62.0</td>\n",
              "      <td>0.1</td>\n",
              "      <td>612.696514</td>\n",
              "      <td>327582.0</td>\n",
              "      <td>17.5</td>\n",
              "      <td>17.5</td>\n",
              "      <td>0.476</td>\n",
              "      <td>10.0</td>\n",
              "    </tr>\n",
              "    <tr>\n",
              "      <th>2</th>\n",
              "      <td>2</td>\n",
              "      <td>Afghanistan</td>\n",
              "      <td>2013</td>\n",
              "      <td>Developing</td>\n",
              "      <td>59.9</td>\n",
              "      <td>268.0</td>\n",
              "      <td>66</td>\n",
              "      <td>0.01</td>\n",
              "      <td>73.219243</td>\n",
              "      <td>64.0</td>\n",
              "      <td>...</td>\n",
              "      <td>62.0</td>\n",
              "      <td>8.13</td>\n",
              "      <td>64.0</td>\n",
              "      <td>0.1</td>\n",
              "      <td>631.744976</td>\n",
              "      <td>31731688.0</td>\n",
              "      <td>17.7</td>\n",
              "      <td>17.7</td>\n",
              "      <td>0.470</td>\n",
              "      <td>9.9</td>\n",
              "    </tr>\n",
              "    <tr>\n",
              "      <th>3</th>\n",
              "      <td>3</td>\n",
              "      <td>Afghanistan</td>\n",
              "      <td>2012</td>\n",
              "      <td>Developing</td>\n",
              "      <td>59.5</td>\n",
              "      <td>272.0</td>\n",
              "      <td>69</td>\n",
              "      <td>0.01</td>\n",
              "      <td>78.184215</td>\n",
              "      <td>67.0</td>\n",
              "      <td>...</td>\n",
              "      <td>67.0</td>\n",
              "      <td>8.52</td>\n",
              "      <td>67.0</td>\n",
              "      <td>0.1</td>\n",
              "      <td>669.959000</td>\n",
              "      <td>3696958.0</td>\n",
              "      <td>17.9</td>\n",
              "      <td>18.0</td>\n",
              "      <td>0.463</td>\n",
              "      <td>9.8</td>\n",
              "    </tr>\n",
              "    <tr>\n",
              "      <th>4</th>\n",
              "      <td>4</td>\n",
              "      <td>Afghanistan</td>\n",
              "      <td>2011</td>\n",
              "      <td>Developing</td>\n",
              "      <td>59.2</td>\n",
              "      <td>275.0</td>\n",
              "      <td>71</td>\n",
              "      <td>0.01</td>\n",
              "      <td>7.097109</td>\n",
              "      <td>68.0</td>\n",
              "      <td>...</td>\n",
              "      <td>68.0</td>\n",
              "      <td>7.87</td>\n",
              "      <td>68.0</td>\n",
              "      <td>0.1</td>\n",
              "      <td>63.537231</td>\n",
              "      <td>2978599.0</td>\n",
              "      <td>18.2</td>\n",
              "      <td>18.2</td>\n",
              "      <td>0.454</td>\n",
              "      <td>9.5</td>\n",
              "    </tr>\n",
              "    <tr>\n",
              "      <th>...</th>\n",
              "      <td>...</td>\n",
              "      <td>...</td>\n",
              "      <td>...</td>\n",
              "      <td>...</td>\n",
              "      <td>...</td>\n",
              "      <td>...</td>\n",
              "      <td>...</td>\n",
              "      <td>...</td>\n",
              "      <td>...</td>\n",
              "      <td>...</td>\n",
              "      <td>...</td>\n",
              "      <td>...</td>\n",
              "      <td>...</td>\n",
              "      <td>...</td>\n",
              "      <td>...</td>\n",
              "      <td>...</td>\n",
              "      <td>...</td>\n",
              "      <td>...</td>\n",
              "      <td>...</td>\n",
              "      <td>...</td>\n",
              "      <td>...</td>\n",
              "    </tr>\n",
              "    <tr>\n",
              "      <th>1848</th>\n",
              "      <td>2933</td>\n",
              "      <td>Zimbabwe</td>\n",
              "      <td>2004</td>\n",
              "      <td>Developing</td>\n",
              "      <td>44.3</td>\n",
              "      <td>723.0</td>\n",
              "      <td>27</td>\n",
              "      <td>4.36</td>\n",
              "      <td>0.000000</td>\n",
              "      <td>68.0</td>\n",
              "      <td>...</td>\n",
              "      <td>67.0</td>\n",
              "      <td>7.13</td>\n",
              "      <td>65.0</td>\n",
              "      <td>33.6</td>\n",
              "      <td>454.366654</td>\n",
              "      <td>12777511.0</td>\n",
              "      <td>9.4</td>\n",
              "      <td>9.4</td>\n",
              "      <td>0.407</td>\n",
              "      <td>9.2</td>\n",
              "    </tr>\n",
              "    <tr>\n",
              "      <th>1849</th>\n",
              "      <td>2934</td>\n",
              "      <td>Zimbabwe</td>\n",
              "      <td>2003</td>\n",
              "      <td>Developing</td>\n",
              "      <td>44.5</td>\n",
              "      <td>715.0</td>\n",
              "      <td>26</td>\n",
              "      <td>4.06</td>\n",
              "      <td>0.000000</td>\n",
              "      <td>7.0</td>\n",
              "      <td>...</td>\n",
              "      <td>7.0</td>\n",
              "      <td>6.52</td>\n",
              "      <td>68.0</td>\n",
              "      <td>36.7</td>\n",
              "      <td>453.351155</td>\n",
              "      <td>12633897.0</td>\n",
              "      <td>9.8</td>\n",
              "      <td>9.9</td>\n",
              "      <td>0.418</td>\n",
              "      <td>9.5</td>\n",
              "    </tr>\n",
              "    <tr>\n",
              "      <th>1850</th>\n",
              "      <td>2935</td>\n",
              "      <td>Zimbabwe</td>\n",
              "      <td>2002</td>\n",
              "      <td>Developing</td>\n",
              "      <td>44.8</td>\n",
              "      <td>73.0</td>\n",
              "      <td>25</td>\n",
              "      <td>4.43</td>\n",
              "      <td>0.000000</td>\n",
              "      <td>73.0</td>\n",
              "      <td>...</td>\n",
              "      <td>73.0</td>\n",
              "      <td>6.53</td>\n",
              "      <td>71.0</td>\n",
              "      <td>39.8</td>\n",
              "      <td>57.348340</td>\n",
              "      <td>125525.0</td>\n",
              "      <td>1.2</td>\n",
              "      <td>1.3</td>\n",
              "      <td>0.427</td>\n",
              "      <td>10.0</td>\n",
              "    </tr>\n",
              "    <tr>\n",
              "      <th>1851</th>\n",
              "      <td>2936</td>\n",
              "      <td>Zimbabwe</td>\n",
              "      <td>2001</td>\n",
              "      <td>Developing</td>\n",
              "      <td>45.3</td>\n",
              "      <td>686.0</td>\n",
              "      <td>25</td>\n",
              "      <td>1.72</td>\n",
              "      <td>0.000000</td>\n",
              "      <td>76.0</td>\n",
              "      <td>...</td>\n",
              "      <td>76.0</td>\n",
              "      <td>6.16</td>\n",
              "      <td>75.0</td>\n",
              "      <td>42.1</td>\n",
              "      <td>548.587312</td>\n",
              "      <td>12366165.0</td>\n",
              "      <td>1.6</td>\n",
              "      <td>1.7</td>\n",
              "      <td>0.427</td>\n",
              "      <td>9.8</td>\n",
              "    </tr>\n",
              "    <tr>\n",
              "      <th>1852</th>\n",
              "      <td>2937</td>\n",
              "      <td>Zimbabwe</td>\n",
              "      <td>2000</td>\n",
              "      <td>Developing</td>\n",
              "      <td>46.0</td>\n",
              "      <td>665.0</td>\n",
              "      <td>24</td>\n",
              "      <td>1.68</td>\n",
              "      <td>0.000000</td>\n",
              "      <td>79.0</td>\n",
              "      <td>...</td>\n",
              "      <td>78.0</td>\n",
              "      <td>7.10</td>\n",
              "      <td>78.0</td>\n",
              "      <td>43.5</td>\n",
              "      <td>547.358878</td>\n",
              "      <td>12222251.0</td>\n",
              "      <td>11.0</td>\n",
              "      <td>11.2</td>\n",
              "      <td>0.434</td>\n",
              "      <td>9.8</td>\n",
              "    </tr>\n",
              "  </tbody>\n",
              "</table>\n",
              "<p>1853 rows × 23 columns</p>\n",
              "</div>\n",
              "      <button class=\"colab-df-convert\" onclick=\"convertToInteractive('df-c6b3f030-9d6d-47d0-bfad-09337a8097fd')\"\n",
              "              title=\"Convert this dataframe to an interactive table.\"\n",
              "              style=\"display:none;\">\n",
              "        \n",
              "  <svg xmlns=\"http://www.w3.org/2000/svg\" height=\"24px\"viewBox=\"0 0 24 24\"\n",
              "       width=\"24px\">\n",
              "    <path d=\"M0 0h24v24H0V0z\" fill=\"none\"/>\n",
              "    <path d=\"M18.56 5.44l.94 2.06.94-2.06 2.06-.94-2.06-.94-.94-2.06-.94 2.06-2.06.94zm-11 1L8.5 8.5l.94-2.06 2.06-.94-2.06-.94L8.5 2.5l-.94 2.06-2.06.94zm10 10l.94 2.06.94-2.06 2.06-.94-2.06-.94-.94-2.06-.94 2.06-2.06.94z\"/><path d=\"M17.41 7.96l-1.37-1.37c-.4-.4-.92-.59-1.43-.59-.52 0-1.04.2-1.43.59L10.3 9.45l-7.72 7.72c-.78.78-.78 2.05 0 2.83L4 21.41c.39.39.9.59 1.41.59.51 0 1.02-.2 1.41-.59l7.78-7.78 2.81-2.81c.8-.78.8-2.07 0-2.86zM5.41 20L4 18.59l7.72-7.72 1.47 1.35L5.41 20z\"/>\n",
              "  </svg>\n",
              "      </button>\n",
              "      \n",
              "  <style>\n",
              "    .colab-df-container {\n",
              "      display:flex;\n",
              "      flex-wrap:wrap;\n",
              "      gap: 12px;\n",
              "    }\n",
              "\n",
              "    .colab-df-convert {\n",
              "      background-color: #E8F0FE;\n",
              "      border: none;\n",
              "      border-radius: 50%;\n",
              "      cursor: pointer;\n",
              "      display: none;\n",
              "      fill: #1967D2;\n",
              "      height: 32px;\n",
              "      padding: 0 0 0 0;\n",
              "      width: 32px;\n",
              "    }\n",
              "\n",
              "    .colab-df-convert:hover {\n",
              "      background-color: #E2EBFA;\n",
              "      box-shadow: 0px 1px 2px rgba(60, 64, 67, 0.3), 0px 1px 3px 1px rgba(60, 64, 67, 0.15);\n",
              "      fill: #174EA6;\n",
              "    }\n",
              "\n",
              "    [theme=dark] .colab-df-convert {\n",
              "      background-color: #3B4455;\n",
              "      fill: #D2E3FC;\n",
              "    }\n",
              "\n",
              "    [theme=dark] .colab-df-convert:hover {\n",
              "      background-color: #434B5C;\n",
              "      box-shadow: 0px 1px 3px 1px rgba(0, 0, 0, 0.15);\n",
              "      filter: drop-shadow(0px 1px 2px rgba(0, 0, 0, 0.3));\n",
              "      fill: #FFFFFF;\n",
              "    }\n",
              "  </style>\n",
              "\n",
              "      <script>\n",
              "        const buttonEl =\n",
              "          document.querySelector('#df-c6b3f030-9d6d-47d0-bfad-09337a8097fd button.colab-df-convert');\n",
              "        buttonEl.style.display =\n",
              "          google.colab.kernel.accessAllowed ? 'block' : 'none';\n",
              "\n",
              "        async function convertToInteractive(key) {\n",
              "          const element = document.querySelector('#df-c6b3f030-9d6d-47d0-bfad-09337a8097fd');\n",
              "          const dataTable =\n",
              "            await google.colab.kernel.invokeFunction('convertToInteractive',\n",
              "                                                     [key], {});\n",
              "          if (!dataTable) return;\n",
              "\n",
              "          const docLinkHtml = 'Like what you see? Visit the ' +\n",
              "            '<a target=\"_blank\" href=https://colab.research.google.com/notebooks/data_table.ipynb>data table notebook</a>'\n",
              "            + ' to learn more about interactive tables.';\n",
              "          element.innerHTML = '';\n",
              "          dataTable['output_type'] = 'display_data';\n",
              "          await google.colab.output.renderOutput(dataTable, element);\n",
              "          const docLink = document.createElement('div');\n",
              "          docLink.innerHTML = docLinkHtml;\n",
              "          element.appendChild(docLink);\n",
              "        }\n",
              "      </script>\n",
              "    </div>\n",
              "  </div>\n",
              "  "
            ]
          },
          "metadata": {},
          "execution_count": 1080
        }
      ]
    }
  ]
}